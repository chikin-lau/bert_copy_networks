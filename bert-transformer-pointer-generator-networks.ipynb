{
 "cells": [
  {
   "cell_type": "code",
   "execution_count": 1,
   "id": "99be2350",
   "metadata": {
    "_cell_guid": "b1076dfc-b9ad-4769-8c92-a6c4dae69d19",
    "_uuid": "8f2839f25d086af736a60e9eeb907d3b93b6e0e5",
    "execution": {
     "iopub.execute_input": "2022-03-17T10:19:42.680661Z",
     "iopub.status.busy": "2022-03-17T10:19:42.679876Z",
     "iopub.status.idle": "2022-03-17T10:19:42.699638Z",
     "shell.execute_reply": "2022-03-17T10:19:42.699080Z",
     "shell.execute_reply.started": "2022-03-17T07:08:40.018915Z"
    },
    "papermill": {
     "duration": 0.041302,
     "end_time": "2022-03-17T10:19:42.699780",
     "exception": false,
     "start_time": "2022-03-17T10:19:42.658478",
     "status": "completed"
    },
    "tags": []
   },
   "outputs": [
    {
     "name": "stdout",
     "output_type": "stream",
     "text": [
      "/kaggle/input/persona-dialog-chinese/Persona_train_1W.tsv\n",
      "/kaggle/input/persona-dialog-chinese/valid_self_original_no_cands.txt\n",
      "/kaggle/input/persona-dialog-chinese/Persona_train.tsv\n",
      "/kaggle/input/persona-dialog-chinese/Persona_sample_train.tsv\n",
      "/kaggle/input/persona-dialog-chinese/train_self_original_no_cands_toy.txt\n",
      "/kaggle/input/persona-dialog-chinese/Persona_train_clean.tsv\n",
      "/kaggle/input/persona-dialog-chinese/Persona_test_train.tsv\n",
      "/kaggle/input/persona-dialog-chinese/Persona_sample_val.tsv\n",
      "/kaggle/input/persona-dialog-chinese/Persona_test_deepclean.tsv\n",
      "/kaggle/input/persona-dialog-chinese/Persona_test_clean.tsv\n",
      "/kaggle/input/persona-dialog-chinese/Persona_val_clean.tsv\n",
      "/kaggle/input/persona-dialog-chinese/Persona_sample_test.tsv\n",
      "/kaggle/input/persona-dialog-chinese/Persona_train_3W.tsv\n",
      "/kaggle/input/persona-dialog-chinese/valid_self_original_no_cands_toy.txt\n",
      "/kaggle/input/persona-dialog-chinese/Persona_test.tsv\n",
      "/kaggle/input/persona-dialog-chinese/train_self_original_no_cands_3W.txt\n",
      "/kaggle/input/persona-dialog-chinese/Persona_val.tsv\n",
      "/kaggle/input/persona-dialog-chinese/train_self_original_no_cands.txt\n"
     ]
    }
   ],
   "source": [
    "# This Python 3 environment comes with many helpful analytics libraries installed\n",
    "# It is defined by the kaggle/python Docker image: https://github.com/kaggle/docker-python\n",
    "# For example, here's several helpful packages to load\n",
    "\n",
    "import numpy as np # linear algebra\n",
    "import pandas as pd # data processing, CSV file I/O (e.g. pd.read_csv)\n",
    "\n",
    "# Input data files are available in the read-only \"../input/\" directory\n",
    "# For example, running this (by clicking run or pressing Shift+Enter) will list all files under the input directory\n",
    "\n",
    "import os\n",
    "for dirname, _, filenames in os.walk('/kaggle/input'):\n",
    "    for filename in filenames:\n",
    "        print(os.path.join(dirname, filename))\n",
    "\n",
    "# You can write up to 20GB to the current directory (/kaggle/working/) that gets preserved as output when you create a version using \"Save & Run All\" \n",
    "# You can also write temporary files to /kaggle/temp/, but they won't be saved outside of the current session"
   ]
  },
  {
   "cell_type": "code",
   "execution_count": 2,
   "id": "ba33c10d",
   "metadata": {
    "execution": {
     "iopub.execute_input": "2022-03-17T10:19:42.724724Z",
     "iopub.status.busy": "2022-03-17T10:19:42.723755Z",
     "iopub.status.idle": "2022-03-17T10:19:43.404213Z",
     "shell.execute_reply": "2022-03-17T10:19:43.403714Z",
     "shell.execute_reply.started": "2022-03-17T07:08:40.032801Z"
    },
    "papermill": {
     "duration": 0.693924,
     "end_time": "2022-03-17T10:19:43.404367",
     "exception": false,
     "start_time": "2022-03-17T10:19:42.710443",
     "status": "completed"
    },
    "tags": []
   },
   "outputs": [
    {
     "name": "stdout",
     "output_type": "stream",
     "text": [
      "/kaggle/working\r\n"
     ]
    }
   ],
   "source": [
    "!pwd"
   ]
  },
  {
   "cell_type": "code",
   "execution_count": 3,
   "id": "5bddade0",
   "metadata": {
    "execution": {
     "iopub.execute_input": "2022-03-17T10:19:43.431094Z",
     "iopub.status.busy": "2022-03-17T10:19:43.430256Z",
     "iopub.status.idle": "2022-03-17T10:19:47.630252Z",
     "shell.execute_reply": "2022-03-17T10:19:47.629728Z",
     "shell.execute_reply.started": "2022-03-17T07:08:43.077508Z"
    },
    "papermill": {
     "duration": 4.215077,
     "end_time": "2022-03-17T10:19:47.630375",
     "exception": false,
     "start_time": "2022-03-17T10:19:43.415298",
     "status": "completed"
    },
    "tags": []
   },
   "outputs": [
    {
     "name": "stdout",
     "output_type": "stream",
     "text": [
      "Cloning into 'bert_copy_networks'...\r\n",
      "remote: Enumerating objects: 58, done.\u001b[K\r\n",
      "remote: Counting objects: 100% (58/58), done.\u001b[K\r\n",
      "remote: Compressing objects: 100% (47/47), done.\u001b[K\r\n",
      "remote: Total 58 (delta 14), reused 49 (delta 8), pack-reused 0\u001b[K\r\n",
      "Unpacking objects: 100% (58/58), 12.85 MiB | 6.56 MiB/s, done.\r\n"
     ]
    }
   ],
   "source": [
    "!git clone https://github.com/chikin-lau/bert_copy_networks.git"
   ]
  },
  {
   "cell_type": "code",
   "execution_count": 4,
   "id": "59b28f24",
   "metadata": {
    "execution": {
     "iopub.execute_input": "2022-03-17T10:19:47.661823Z",
     "iopub.status.busy": "2022-03-17T10:19:47.661076Z",
     "iopub.status.idle": "2022-03-17T10:19:48.371562Z",
     "shell.execute_reply": "2022-03-17T10:19:48.370840Z",
     "shell.execute_reply.started": "2022-03-17T07:08:47.580688Z"
    },
    "papermill": {
     "duration": 0.728096,
     "end_time": "2022-03-17T10:19:48.371703",
     "exception": false,
     "start_time": "2022-03-17T10:19:47.643607",
     "status": "completed"
    },
    "tags": []
   },
   "outputs": [
    {
     "name": "stdout",
     "output_type": "stream",
     "text": [
      "Thu Mar 17 10:19:48 2022       \r\n",
      "+-----------------------------------------------------------------------------+\r\n",
      "| NVIDIA-SMI 450.119.04   Driver Version: 450.119.04   CUDA Version: 11.0     |\r\n",
      "|-------------------------------+----------------------+----------------------+\r\n",
      "| GPU  Name        Persistence-M| Bus-Id        Disp.A | Volatile Uncorr. ECC |\r\n",
      "| Fan  Temp  Perf  Pwr:Usage/Cap|         Memory-Usage | GPU-Util  Compute M. |\r\n",
      "|                               |                      |               MIG M. |\r\n",
      "|===============================+======================+======================|\r\n",
      "|   0  Tesla P100-PCIE...  Off  | 00000000:00:04.0 Off |                    0 |\r\n",
      "| N/A   37C    P0    26W / 250W |      0MiB / 16280MiB |      0%      Default |\r\n",
      "|                               |                      |                  N/A |\r\n",
      "+-------------------------------+----------------------+----------------------+\r\n",
      "                                                                               \r\n",
      "+-----------------------------------------------------------------------------+\r\n",
      "| Processes:                                                                  |\r\n",
      "|  GPU   GI   CI        PID   Type   Process name                  GPU Memory |\r\n",
      "|        ID   ID                                                   Usage      |\r\n",
      "|=============================================================================|\r\n",
      "|  No running processes found                                                 |\r\n",
      "+-----------------------------------------------------------------------------+\r\n"
     ]
    }
   ],
   "source": [
    "!nvidia-smi"
   ]
  },
  {
   "cell_type": "code",
   "execution_count": 5,
   "id": "714fb32a",
   "metadata": {
    "execution": {
     "iopub.execute_input": "2022-03-17T10:19:48.407288Z",
     "iopub.status.busy": "2022-03-17T10:19:48.406345Z",
     "iopub.status.idle": "2022-03-17T10:19:48.414770Z",
     "shell.execute_reply": "2022-03-17T10:19:48.414296Z",
     "shell.execute_reply.started": "2022-03-17T07:08:51.579236Z"
    },
    "papermill": {
     "duration": 0.027523,
     "end_time": "2022-03-17T10:19:48.414900",
     "exception": false,
     "start_time": "2022-03-17T10:19:48.387377",
     "status": "completed"
    },
    "tags": []
   },
   "outputs": [
    {
     "name": "stdout",
     "output_type": "stream",
     "text": [
      "/kaggle/working/bert_copy_networks\n"
     ]
    }
   ],
   "source": [
    "%cd ./bert_copy_networks"
   ]
  },
  {
   "cell_type": "code",
   "execution_count": 6,
   "id": "d30fd6ef",
   "metadata": {
    "execution": {
     "iopub.execute_input": "2022-03-17T10:19:48.451300Z",
     "iopub.status.busy": "2022-03-17T10:19:48.450592Z",
     "iopub.status.idle": "2022-03-17T10:19:49.826480Z",
     "shell.execute_reply": "2022-03-17T10:19:49.826899Z",
     "shell.execute_reply.started": "2022-03-17T07:08:54.216147Z"
    },
    "papermill": {
     "duration": 1.396115,
     "end_time": "2022-03-17T10:19:49.827044",
     "exception": false,
     "start_time": "2022-03-17T10:19:48.430929",
     "status": "completed"
    },
    "tags": []
   },
   "outputs": [
    {
     "name": "stdout",
     "output_type": "stream",
     "text": [
      "1.9.1\n"
     ]
    }
   ],
   "source": [
    "import torch \n",
    "print(torch.__version__) "
   ]
  },
  {
   "cell_type": "code",
   "execution_count": 7,
   "id": "30834a92",
   "metadata": {
    "execution": {
     "iopub.execute_input": "2022-03-17T10:19:49.860062Z",
     "iopub.status.busy": "2022-03-17T10:19:49.859267Z",
     "iopub.status.idle": "2022-03-17T12:14:34.694755Z",
     "shell.execute_reply": "2022-03-17T12:14:34.694247Z",
     "shell.execute_reply.started": "2022-03-17T07:09:04.047617Z"
    },
    "papermill": {
     "duration": 6884.85298,
     "end_time": "2022-03-17T12:14:34.694889",
     "exception": false,
     "start_time": "2022-03-17T10:19:49.841909",
     "status": "completed"
    },
    "tags": []
   },
   "outputs": [
    {
     "name": "stdout",
     "output_type": "stream",
     "text": [
      "Downloading: 100%|████████████████████████████| 107k/107k [00:00<00:00, 891kB/s]\r\n",
      "Downloading: 100%|███████████████████████████| 29.0/29.0 [00:00<00:00, 22.4kB/s]\r\n",
      "Downloading: 100%|███████████████████████████| 263k/263k [00:00<00:00, 1.07MB/s]\r\n",
      "Downloading: 100%|██████████████████████████████| 624/624 [00:00<00:00, 517kB/s]\r\n",
      "Construct data from ./data/Persona_train_3W.tsv\r\n",
      "30117it [00:00, 169270.79it/s]\r\n",
      "Construct data from ./data/Persona_val_clean.tsv\r\n",
      "100it [00:00, 125766.24it/s]\r\n",
      "Construct data from ./data/Persona_test_deepclean.tsv\r\n",
      "4117it [00:00, 158977.25it/s]\r\n",
      "Downloading: 100%|███████████████████████████| 393M/393M [00:08<00:00, 48.4MB/s]\r\n",
      "Some weights of the model checkpoint at bert-base-chinese were not used when initializing BertModel: ['cls.predictions.decoder.weight', 'cls.predictions.bias', 'cls.predictions.transform.LayerNorm.weight', 'cls.predictions.transform.LayerNorm.bias', 'cls.predictions.transform.dense.bias', 'cls.seq_relationship.weight', 'cls.predictions.transform.dense.weight', 'cls.seq_relationship.bias']\r\n",
      "- This IS expected if you are initializing BertModel from the checkpoint of a model trained on another task or with another architecture (e.g. initializing a BertForSequenceClassification model from a BertForPreTraining model).\r\n",
      "- This IS NOT expected if you are initializing BertModel from the checkpoint of a model that you expect to be exactly identical (initializing a BertForSequenceClassification model from a BertForSequenceClassification model).\r\n",
      "training a new model\r\n",
      "Epoch / Total epochs: 1 / 10\r\n",
      "  5%|██▏                                      | 99/1883 [00:45<13:20,  2.23it/s]INFO - 03/17/22 10:21:42 - 0:00:51 - Train Epoch: 1, Total Steps: 100, avg loss: 9.9316, accuracy: 5.11%\r\n",
      " 11%|████▏                                   | 199/1883 [01:30<12:35,  2.23it/s]INFO - 03/17/22 10:22:27 - 0:01:36 - Train Epoch: 1, Total Steps: 200, avg loss: 9.9134, accuracy: 6.16%\r\n",
      " 16%|██████▎                                 | 299/1883 [02:15<12:01,  2.20it/s]INFO - 03/17/22 10:23:12 - 0:02:21 - Train Epoch: 1, Total Steps: 300, avg loss: 9.9130, accuracy: 5.81%\r\n",
      " 21%|████████▍                               | 399/1883 [03:00<11:16,  2.20it/s]INFO - 03/17/22 10:23:57 - 0:03:06 - Train Epoch: 1, Total Steps: 400, avg loss: 9.9067, accuracy: 6.32%\r\n",
      " 27%|██████████▌                             | 499/1883 [03:45<10:26,  2.21it/s]INFO - 03/17/22 10:24:42 - 0:03:51 - Train Epoch: 1, Total Steps: 500, avg loss: 9.9030, accuracy: 6.60%\r\n",
      " 32%|████████████▋                           | 599/1883 [04:30<09:38,  2.22it/s]INFO - 03/17/22 10:25:27 - 0:04:36 - Train Epoch: 1, Total Steps: 600, avg loss: 9.9004, accuracy: 6.80%\r\n",
      " 37%|██████████████▊                         | 699/1883 [05:15<08:52,  2.22it/s]INFO - 03/17/22 10:26:12 - 0:05:21 - Train Epoch: 1, Total Steps: 700, avg loss: 9.8988, accuracy: 6.92%\r\n",
      " 42%|████████████████▉                       | 799/1883 [06:00<08:07,  2.23it/s]INFO - 03/17/22 10:26:57 - 0:06:06 - Train Epoch: 1, Total Steps: 800, avg loss: 9.8973, accuracy: 7.05%\r\n",
      " 48%|███████████████████                     | 899/1883 [06:46<07:24,  2.22it/s]INFO - 03/17/22 10:27:42 - 0:06:51 - Train Epoch: 1, Total Steps: 900, avg loss: 9.8963, accuracy: 7.12%\r\n",
      " 53%|█████████████████████▏                  | 999/1883 [07:31<06:36,  2.23it/s]INFO - 03/17/22 10:28:27 - 0:07:36 - Train Epoch: 1, Total Steps: 1000, avg loss: 9.8951, accuracy: 7.24%\r\n",
      " 58%|██████████████████████▊                | 1099/1883 [08:16<05:51,  2.23it/s]INFO - 03/17/22 10:29:13 - 0:08:21 - Train Epoch: 1, Total Steps: 1100, avg loss: 9.8953, accuracy: 7.20%\r\n",
      " 64%|████████████████████████▊              | 1199/1883 [09:01<05:06,  2.23it/s]INFO - 03/17/22 10:29:58 - 0:09:06 - Train Epoch: 1, Total Steps: 1200, avg loss: 9.8957, accuracy: 7.13%\r\n",
      " 69%|██████████████████████████▉            | 1299/1883 [09:46<04:22,  2.22it/s]INFO - 03/17/22 10:30:43 - 0:09:51 - Train Epoch: 1, Total Steps: 1300, avg loss: 9.8959, accuracy: 7.09%\r\n",
      " 74%|████████████████████████████▉          | 1399/1883 [10:31<03:38,  2.21it/s]INFO - 03/17/22 10:31:28 - 0:10:36 - Train Epoch: 1, Total Steps: 1400, avg loss: 9.8967, accuracy: 7.00%\r\n",
      " 80%|███████████████████████████████        | 1499/1883 [11:16<02:53,  2.21it/s]INFO - 03/17/22 10:32:13 - 0:11:21 - Train Epoch: 1, Total Steps: 1500, avg loss: 9.8975, accuracy: 6.90%\r\n",
      " 85%|█████████████████████████████████      | 1599/1883 [12:01<02:08,  2.22it/s]INFO - 03/17/22 10:32:58 - 0:12:07 - Train Epoch: 1, Total Steps: 1600, avg loss: 9.8987, accuracy: 6.76%\r\n",
      " 90%|███████████████████████████████████▏   | 1699/1883 [12:46<01:22,  2.23it/s]INFO - 03/17/22 10:33:43 - 0:12:52 - Train Epoch: 1, Total Steps: 1700, avg loss: 9.8997, accuracy: 6.64%\r\n",
      " 96%|█████████████████████████████████████▎ | 1799/1883 [13:31<00:37,  2.22it/s]INFO - 03/17/22 10:34:28 - 0:13:37 - Train Epoch: 1, Total Steps: 1800, avg loss: 9.9006, accuracy: 6.54%\r\n",
      "100%|███████████████████████████████████████| 1883/1883 [14:08<00:00,  2.22it/s]\r\n",
      "INFO - 03/17/22 10:35:05 - 0:14:14 - Train Epoch: 1, avg loss: 9.9012, accuracy: 6.46%\r\n",
      "INFO - 03/17/22 10:35:06 - 0:14:15 - Validation. Epoch: 1, avg dev loss: 9.8925, accuracy: 7.04%\r\n",
      "INFO - 03/17/22 10:35:06 - 0:14:15 - New best loss, Model saved\r\n",
      "Epoch / Total epochs: 2 / 10\r\n",
      "  1%|▎                                        | 16/1883 [00:07<14:03,  2.21it/s]INFO - 03/17/22 10:35:15 - 0:14:24 - Train Epoch: 2, Total Steps: 1900, avg loss: 0.0887, accuracy: 4.57%\r\n",
      "  6%|██▍                                     | 116/1883 [00:52<13:19,  2.21it/s]INFO - 03/17/22 10:36:00 - 0:15:09 - Train Epoch: 2, Total Steps: 2000, avg loss: 0.5801, accuracy: 4.74%\r\n",
      " 11%|████▌                                   | 216/1883 [01:37<12:27,  2.23it/s]INFO - 03/17/22 10:36:45 - 0:15:54 - Train Epoch: 2, Total Steps: 2100, avg loss: 1.0245, accuracy: 4.86%\r\n",
      " 17%|██████▋                                 | 316/1883 [02:22<11:43,  2.23it/s]INFO - 03/17/22 10:37:30 - 0:16:39 - Train Epoch: 2, Total Steps: 2200, avg loss: 1.4287, accuracy: 4.81%\r\n",
      " 22%|████████▊                               | 416/1883 [03:07<11:02,  2.21it/s]INFO - 03/17/22 10:38:15 - 0:17:24 - Train Epoch: 2, Total Steps: 2300, avg loss: 1.7977, accuracy: 4.78%\r\n",
      " 27%|██████████▉                             | 516/1883 [03:52<10:18,  2.21it/s]INFO - 03/17/22 10:39:00 - 0:18:09 - Train Epoch: 2, Total Steps: 2400, avg loss: 2.1359, accuracy: 4.79%\r\n",
      " 33%|█████████████                           | 616/1883 [04:37<09:29,  2.22it/s]INFO - 03/17/22 10:39:45 - 0:18:54 - Train Epoch: 2, Total Steps: 2500, avg loss: 2.4471, accuracy: 4.78%\r\n",
      " 38%|███████████████▏                        | 716/1883 [05:22<08:44,  2.23it/s]INFO - 03/17/22 10:40:30 - 0:19:39 - Train Epoch: 2, Total Steps: 2600, avg loss: 2.7344, accuracy: 4.76%\r\n",
      " 43%|█████████████████▎                      | 816/1883 [06:07<08:02,  2.21it/s]INFO - 03/17/22 10:41:15 - 0:20:24 - Train Epoch: 2, Total Steps: 2700, avg loss: 3.0004, accuracy: 4.77%\r\n",
      " 49%|███████████████████▍                    | 916/1883 [06:52<07:15,  2.22it/s]INFO - 03/17/22 10:42:00 - 0:21:09 - Train Epoch: 2, Total Steps: 2800, avg loss: 3.2474, accuracy: 4.75%\r\n",
      " 54%|█████████████████████                  | 1016/1883 [07:38<06:29,  2.23it/s]INFO - 03/17/22 10:42:46 - 0:21:54 - Train Epoch: 2, Total Steps: 2900, avg loss: 3.4773, accuracy: 4.75%\r\n",
      " 59%|███████████████████████                | 1116/1883 [08:23<05:44,  2.23it/s]INFO - 03/17/22 10:43:31 - 0:22:40 - Train Epoch: 2, Total Steps: 3000, avg loss: 3.6919, accuracy: 4.76%\r\n",
      " 65%|█████████████████████████▏             | 1216/1883 [09:08<04:59,  2.23it/s]INFO - 03/17/22 10:44:16 - 0:23:25 - Train Epoch: 2, Total Steps: 3100, avg loss: 3.8927, accuracy: 4.76%\r\n",
      " 70%|███████████████████████████▎           | 1316/1883 [09:53<04:15,  2.22it/s]INFO - 03/17/22 10:45:02 - 0:24:10 - Train Epoch: 2, Total Steps: 3200, avg loss: 4.0809, accuracy: 4.76%\r\n",
      " 75%|█████████████████████████████▎         | 1416/1883 [10:39<03:31,  2.21it/s]INFO - 03/17/22 10:45:47 - 0:24:56 - Train Epoch: 2, Total Steps: 3300, avg loss: 4.2577, accuracy: 4.76%\r\n",
      " 81%|███████████████████████████████▍       | 1516/1883 [11:24<02:45,  2.22it/s]INFO - 03/17/22 10:46:32 - 0:25:41 - Train Epoch: 2, Total Steps: 3400, avg loss: 4.4241, accuracy: 4.76%\r\n",
      " 86%|█████████████████████████████████▍     | 1616/1883 [12:10<02:02,  2.18it/s]INFO - 03/17/22 10:47:18 - 0:26:26 - Train Epoch: 2, Total Steps: 3500, avg loss: 4.5810, accuracy: 4.77%\r\n",
      " 91%|███████████████████████████████████▌   | 1716/1883 [12:55<01:15,  2.22it/s]INFO - 03/17/22 10:48:03 - 0:27:12 - Train Epoch: 2, Total Steps: 3600, avg loss: 4.7291, accuracy: 4.77%\r\n",
      " 96%|█████████████████████████████████████▌ | 1816/1883 [13:40<00:30,  2.23it/s]INFO - 03/17/22 10:48:48 - 0:27:57 - Train Epoch: 2, Total Steps: 3700, avg loss: 4.8693, accuracy: 4.77%\r\n",
      "100%|███████████████████████████████████████| 1883/1883 [14:10<00:00,  2.21it/s]\r\n",
      "INFO - 03/17/22 10:49:18 - 0:28:26 - Train Epoch: 2, avg loss: 9.9154, accuracy: 4.77%\r\n",
      "INFO - 03/17/22 10:49:19 - 0:28:28 - Validation. Epoch: 2, avg dev loss: 9.8978, accuracy: 7.04%\r\n",
      "Epoch / Total epochs: 3 / 10\r\n",
      "  2%|▋                                        | 33/1883 [00:15<13:52,  2.22it/s]INFO - 03/17/22 10:49:34 - 0:28:43 - Train Epoch: 3, Total Steps: 3800, avg loss: 0.0887, accuracy: 4.59%\r\n",
      "  7%|██▊                                     | 133/1883 [01:00<13:06,  2.23it/s]INFO - 03/17/22 10:50:20 - 0:29:28 - Train Epoch: 3, Total Steps: 3900, avg loss: 0.3406, accuracy: 4.55%\r\n",
      " 12%|████▉                                   | 233/1883 [01:45<12:26,  2.21it/s]INFO - 03/17/22 10:51:05 - 0:30:14 - Train Epoch: 3, Total Steps: 4000, avg loss: 0.5799, accuracy: 4.67%\r\n",
      " 18%|███████                                 | 333/1883 [02:30<11:37,  2.22it/s]INFO - 03/17/22 10:51:50 - 0:30:59 - Train Epoch: 3, Total Steps: 4100, avg loss: 0.8076, accuracy: 4.70%\r\n",
      " 23%|█████████▏                              | 433/1883 [03:16<10:52,  2.22it/s]INFO - 03/17/22 10:52:35 - 0:31:44 - Train Epoch: 3, Total Steps: 4200, avg loss: 1.0244, accuracy: 4.72%\r\n",
      " 28%|███████████▎                            | 533/1883 [04:01<10:21,  2.17it/s]INFO - 03/17/22 10:53:21 - 0:32:30 - Train Epoch: 3, Total Steps: 4300, avg loss: 1.2311, accuracy: 4.71%\r\n",
      " 34%|█████████████▍                          | 633/1883 [04:46<09:22,  2.22it/s]INFO - 03/17/22 10:54:06 - 0:33:15 - Train Epoch: 3, Total Steps: 4400, avg loss: 1.4284, accuracy: 4.69%\r\n",
      " 39%|███████████████▌                        | 733/1883 [05:31<08:36,  2.23it/s]INFO - 03/17/22 10:54:51 - 0:34:00 - Train Epoch: 3, Total Steps: 4500, avg loss: 1.6169, accuracy: 4.72%\r\n",
      " 44%|█████████████████▋                      | 833/1883 [06:17<07:52,  2.22it/s]INFO - 03/17/22 10:55:36 - 0:34:45 - Train Epoch: 3, Total Steps: 4600, avg loss: 1.7970, accuracy: 4.74%\r\n",
      " 50%|███████████████████▊                    | 933/1883 [07:02<07:06,  2.23it/s]INFO - 03/17/22 10:56:22 - 0:35:30 - Train Epoch: 3, Total Steps: 4700, avg loss: 1.9694, accuracy: 4.77%\r\n",
      " 55%|█████████████████████▍                 | 1033/1883 [07:47<06:22,  2.22it/s]INFO - 03/17/22 10:57:07 - 0:36:16 - Train Epoch: 3, Total Steps: 4800, avg loss: 2.1347, accuracy: 4.79%\r\n",
      " 60%|███████████████████████▍               | 1133/1883 [08:32<05:39,  2.21it/s]INFO - 03/17/22 10:57:52 - 0:37:01 - Train Epoch: 3, Total Steps: 4900, avg loss: 2.2933, accuracy: 4.79%\r\n",
      " 65%|█████████████████████████▌             | 1233/1883 [09:17<04:53,  2.21it/s]INFO - 03/17/22 10:58:37 - 0:37:46 - Train Epoch: 3, Total Steps: 5000, avg loss: 2.4455, accuracy: 4.79%\r\n",
      " 71%|███████████████████████████▌           | 1333/1883 [10:03<04:10,  2.20it/s]INFO - 03/17/22 10:59:22 - 0:38:31 - Train Epoch: 3, Total Steps: 5100, avg loss: 2.5917, accuracy: 4.78%\r\n",
      " 76%|█████████████████████████████▋         | 1433/1883 [10:48<03:22,  2.23it/s]INFO - 03/17/22 11:00:08 - 0:39:16 - Train Epoch: 3, Total Steps: 5200, avg loss: 2.7322, accuracy: 4.83%\r\n",
      " 81%|███████████████████████████████▊       | 1533/1883 [11:33<02:37,  2.23it/s]INFO - 03/17/22 11:00:53 - 0:40:02 - Train Epoch: 3, Total Steps: 5300, avg loss: 2.8669, accuracy: 5.17%\r\n",
      " 87%|█████████████████████████████████▊     | 1633/1883 [12:18<01:54,  2.18it/s]INFO - 03/17/22 11:01:38 - 0:40:47 - Train Epoch: 3, Total Steps: 5400, avg loss: 2.9966, accuracy: 5.46%\r\n",
      " 92%|███████████████████████████████████▉   | 1733/1883 [13:03<01:07,  2.22it/s]INFO - 03/17/22 11:02:23 - 0:41:32 - Train Epoch: 3, Total Steps: 5500, avg loss: 3.1215, accuracy: 5.72%\r\n",
      " 97%|█████████████████████████████████████▉ | 1833/1883 [13:48<00:22,  2.23it/s]INFO - 03/17/22 11:03:08 - 0:42:17 - Train Epoch: 3, Total Steps: 5600, avg loss: 3.2420, accuracy: 5.96%\r\n",
      "100%|███████████████████████████████████████| 1883/1883 [14:11<00:00,  2.21it/s]\r\n",
      "INFO - 03/17/22 11:03:30 - 0:42:39 - Train Epoch: 3, avg loss: 9.8983, accuracy: 6.07%\r\n",
      "INFO - 03/17/22 11:03:31 - 0:42:40 - Validation. Epoch: 3, avg dev loss: 9.8502, accuracy: 11.86%\r\n",
      "INFO - 03/17/22 11:03:31 - 0:42:40 - New best loss, Model saved\r\n",
      "Epoch / Total epochs: 4 / 10\r\n",
      "  3%|█                                        | 50/1883 [00:22<13:46,  2.22it/s]INFO - 03/17/22 11:03:56 - 0:43:05 - Train Epoch: 4, Total Steps: 5700, avg loss: 0.0883, accuracy: 9.74%\r\n",
      "  8%|███▏                                    | 150/1883 [01:07<13:01,  2.22it/s]INFO - 03/17/22 11:04:41 - 0:43:50 - Train Epoch: 4, Total Steps: 5800, avg loss: 0.2569, accuracy: 9.97%\r\n",
      " 13%|█████▎                                  | 250/1883 [01:52<12:19,  2.21it/s]INFO - 03/17/22 11:05:26 - 0:44:35 - Train Epoch: 4, Total Steps: 5900, avg loss: 0.4198, accuracy: 10.06%\r\n",
      " 19%|███████▍                                | 350/1883 [02:37<11:28,  2.23it/s]INFO - 03/17/22 11:06:11 - 0:45:20 - Train Epoch: 4, Total Steps: 6000, avg loss: 0.5773, accuracy: 10.03%\r\n",
      " 24%|█████████▌                              | 450/1883 [03:23<10:45,  2.22it/s]INFO - 03/17/22 11:06:56 - 0:46:05 - Train Epoch: 4, Total Steps: 6100, avg loss: 0.7296, accuracy: 10.05%\r\n",
      " 29%|███████████▋                            | 550/1883 [04:08<09:58,  2.23it/s]INFO - 03/17/22 11:07:42 - 0:46:50 - Train Epoch: 4, Total Steps: 6200, avg loss: 0.8770, accuracy: 10.06%\r\n",
      " 35%|█████████████▊                          | 650/1883 [04:53<09:13,  2.23it/s]INFO - 03/17/22 11:08:27 - 0:47:36 - Train Epoch: 4, Total Steps: 6300, avg loss: 1.0197, accuracy: 10.06%\r\n",
      " 40%|███████████████▉                        | 750/1883 [05:38<08:29,  2.23it/s]INFO - 03/17/22 11:09:12 - 0:48:21 - Train Epoch: 4, Total Steps: 6400, avg loss: 1.1580, accuracy: 10.06%\r\n",
      " 45%|██████████████████                      | 850/1883 [06:23<07:44,  2.22it/s]INFO - 03/17/22 11:09:57 - 0:49:06 - Train Epoch: 4, Total Steps: 6500, avg loss: 1.2919, accuracy: 10.08%\r\n",
      " 50%|████████████████████▏                   | 950/1883 [07:09<07:01,  2.22it/s]INFO - 03/17/22 11:10:42 - 0:49:51 - Train Epoch: 4, Total Steps: 6600, avg loss: 1.4219, accuracy: 10.08%\r\n",
      " 56%|█████████████████████▋                 | 1050/1883 [07:54<06:16,  2.21it/s]INFO - 03/17/22 11:11:28 - 0:50:36 - Train Epoch: 4, Total Steps: 6700, avg loss: 1.5479, accuracy: 10.09%\r\n",
      " 61%|███████████████████████▊               | 1150/1883 [08:39<05:29,  2.23it/s]INFO - 03/17/22 11:12:13 - 0:51:22 - Train Epoch: 4, Total Steps: 6800, avg loss: 1.6703, accuracy: 10.08%\r\n",
      " 66%|█████████████████████████▉             | 1250/1883 [09:24<04:44,  2.23it/s]INFO - 03/17/22 11:12:58 - 0:52:07 - Train Epoch: 4, Total Steps: 6900, avg loss: 1.7891, accuracy: 10.06%\r\n",
      " 72%|███████████████████████████▉           | 1350/1883 [10:09<04:01,  2.21it/s]INFO - 03/17/22 11:13:43 - 0:52:52 - Train Epoch: 4, Total Steps: 7000, avg loss: 1.9046, accuracy: 10.03%\r\n",
      " 77%|██████████████████████████████         | 1450/1883 [10:54<03:14,  2.23it/s]INFO - 03/17/22 11:14:28 - 0:53:37 - Train Epoch: 4, Total Steps: 7100, avg loss: 2.0168, accuracy: 10.02%\r\n",
      " 82%|████████████████████████████████       | 1550/1883 [11:40<02:29,  2.22it/s]INFO - 03/17/22 11:15:14 - 0:54:22 - Train Epoch: 4, Total Steps: 7200, avg loss: 2.1258, accuracy: 10.03%\r\n",
      " 88%|██████████████████████████████████▏    | 1650/1883 [12:25<01:44,  2.23it/s]INFO - 03/17/22 11:15:59 - 0:55:08 - Train Epoch: 4, Total Steps: 7300, avg loss: 2.2318, accuracy: 10.04%\r\n",
      " 93%|████████████████████████████████████▏  | 1750/1883 [13:10<00:59,  2.22it/s]INFO - 03/17/22 11:16:44 - 0:55:53 - Train Epoch: 4, Total Steps: 7400, avg loss: 2.3350, accuracy: 10.06%\r\n",
      " 98%|██████████████████████████████████████▎| 1850/1883 [13:55<00:14,  2.20it/s]INFO - 03/17/22 11:17:29 - 0:56:38 - Train Epoch: 4, Total Steps: 7500, avg loss: 2.4354, accuracy: 10.06%\r\n",
      "100%|███████████████████████████████████████| 1883/1883 [14:10<00:00,  2.21it/s]\r\n",
      "INFO - 03/17/22 11:17:43 - 0:56:52 - Train Epoch: 4, avg loss: 9.8680, accuracy: 10.07%\r\n",
      "INFO - 03/17/22 11:17:45 - 0:56:54 - Validation. Epoch: 4, avg dev loss: 9.8497, accuracy: 11.86%\r\n",
      "INFO - 03/17/22 11:17:45 - 0:56:54 - New best loss, Model saved\r\n",
      "Epoch / Total epochs: 5 / 10\r\n",
      "  4%|█▍                                       | 67/1883 [00:30<13:37,  2.22it/s]INFO - 03/17/22 11:18:17 - 0:57:26 - Train Epoch: 5, Total Steps: 7600, avg loss: 0.0883, accuracy: 10.45%\r\n",
      "  9%|███▌                                    | 167/1883 [01:15<12:51,  2.22it/s]INFO - 03/17/22 11:19:02 - 0:58:11 - Train Epoch: 5, Total Steps: 7700, avg loss: 0.2153, accuracy: 10.21%\r\n",
      " 14%|█████▋                                  | 267/1883 [02:00<12:06,  2.23it/s]INFO - 03/17/22 11:19:47 - 0:58:56 - Train Epoch: 5, Total Steps: 7800, avg loss: 0.3390, accuracy: 10.12%\r\n",
      " 19%|███████▊                                | 367/1883 [02:46<11:21,  2.22it/s]INFO - 03/17/22 11:20:33 - 0:59:41 - Train Epoch: 5, Total Steps: 7900, avg loss: 0.4597, accuracy: 10.03%\r\n",
      " 25%|█████████▉                              | 467/1883 [03:31<10:36,  2.23it/s]INFO - 03/17/22 11:21:18 - 1:00:27 - Train Epoch: 5, Total Steps: 8000, avg loss: 0.5773, accuracy: 10.03%\r\n",
      " 30%|████████████                            | 567/1883 [04:16<09:53,  2.22it/s]INFO - 03/17/22 11:22:03 - 1:01:12 - Train Epoch: 5, Total Steps: 8100, avg loss: 0.6920, accuracy: 9.99%\r\n",
      " 35%|██████████████▏                         | 667/1883 [05:02<09:09,  2.21it/s]INFO - 03/17/22 11:22:49 - 1:01:57 - Train Epoch: 5, Total Steps: 8200, avg loss: 0.8039, accuracy: 10.00%\r\n",
      " 41%|████████████████▎                       | 767/1883 [05:47<08:21,  2.22it/s]INFO - 03/17/22 11:23:34 - 1:02:43 - Train Epoch: 5, Total Steps: 8300, avg loss: 0.9131, accuracy: 10.00%\r\n",
      " 46%|██████████████████▍                     | 867/1883 [06:32<07:52,  2.15it/s]INFO - 03/17/22 11:24:19 - 1:03:28 - Train Epoch: 5, Total Steps: 8400, avg loss: 1.0197, accuracy: 10.03%\r\n",
      " 51%|████████████████████▌                   | 967/1883 [07:17<06:51,  2.22it/s]INFO - 03/17/22 11:25:04 - 1:04:13 - Train Epoch: 5, Total Steps: 8500, avg loss: 1.1238, accuracy: 10.04%\r\n",
      " 57%|██████████████████████                 | 1067/1883 [08:02<06:08,  2.22it/s]INFO - 03/17/22 11:25:50 - 1:04:58 - Train Epoch: 5, Total Steps: 8600, avg loss: 1.2255, accuracy: 10.05%\r\n",
      " 62%|████████████████████████▏              | 1167/1883 [08:48<05:21,  2.23it/s]INFO - 03/17/22 11:26:35 - 1:05:44 - Train Epoch: 5, Total Steps: 8700, avg loss: 1.3248, accuracy: 10.07%\r\n",
      " 67%|██████████████████████████▏            | 1267/1883 [09:33<04:36,  2.23it/s]INFO - 03/17/22 11:27:20 - 1:06:29 - Train Epoch: 5, Total Steps: 8800, avg loss: 1.4218, accuracy: 10.09%\r\n",
      " 73%|████████████████████████████▎          | 1367/1883 [10:18<03:51,  2.23it/s]INFO - 03/17/22 11:28:05 - 1:07:14 - Train Epoch: 5, Total Steps: 8900, avg loss: 1.5167, accuracy: 10.09%\r\n",
      " 78%|██████████████████████████████▍        | 1467/1883 [11:03<03:06,  2.23it/s]INFO - 03/17/22 11:28:50 - 1:07:59 - Train Epoch: 5, Total Steps: 9000, avg loss: 1.6095, accuracy: 10.09%\r\n",
      " 83%|████████████████████████████████▍      | 1567/1883 [11:49<02:25,  2.17it/s]INFO - 03/17/22 11:29:36 - 1:08:45 - Train Epoch: 5, Total Steps: 9100, avg loss: 1.7003, accuracy: 10.09%\r\n",
      " 89%|██████████████████████████████████▌    | 1667/1883 [12:34<01:37,  2.21it/s]INFO - 03/17/22 11:30:21 - 1:09:30 - Train Epoch: 5, Total Steps: 9200, avg loss: 1.7890, accuracy: 10.10%\r\n",
      " 94%|████████████████████████████████████▌  | 1767/1883 [13:19<00:52,  2.22it/s]INFO - 03/17/22 11:31:06 - 1:10:15 - Train Epoch: 5, Total Steps: 9300, avg loss: 1.8759, accuracy: 10.10%\r\n",
      " 99%|██████████████████████████████████████▋| 1867/1883 [14:05<00:07,  2.22it/s]INFO - 03/17/22 11:31:52 - 1:11:00 - Train Epoch: 5, Total Steps: 9400, avg loss: 1.9609, accuracy: 10.11%\r\n",
      "100%|███████████████████████████████████████| 1883/1883 [14:12<00:00,  2.21it/s]\r\n",
      "INFO - 03/17/22 11:31:58 - 1:11:07 - Train Epoch: 5, avg loss: 9.8675, accuracy: 10.11%\r\n",
      "INFO - 03/17/22 11:32:00 - 1:11:08 - Validation. Epoch: 5, avg dev loss: 9.8502, accuracy: 11.81%\r\n",
      "Epoch / Total epochs: 6 / 10\r\n",
      "  4%|█▊                                       | 84/1883 [00:38<13:29,  2.22it/s]INFO - 03/17/22 11:32:38 - 1:11:47 - Train Epoch: 6, Total Steps: 9500, avg loss: 0.0883, accuracy: 10.03%\r\n",
      " 10%|███▉                                    | 184/1883 [01:23<12:43,  2.22it/s]INFO - 03/17/22 11:33:23 - 1:12:32 - Train Epoch: 6, Total Steps: 9600, avg loss: 0.1902, accuracy: 10.08%\r\n",
      " 15%|██████                                  | 284/1883 [02:08<11:59,  2.22it/s]INFO - 03/17/22 11:34:08 - 1:13:17 - Train Epoch: 6, Total Steps: 9700, avg loss: 0.2899, accuracy: 10.05%\r\n",
      " 20%|████████▏                               | 384/1883 [02:53<11:31,  2.17it/s]INFO - 03/17/22 11:34:54 - 1:14:03 - Train Epoch: 6, Total Steps: 9800, avg loss: 0.3876, accuracy: 10.13%\r\n",
      " 26%|██████████▎                             | 484/1883 [03:39<10:33,  2.21it/s]INFO - 03/17/22 11:35:39 - 1:14:48 - Train Epoch: 6, Total Steps: 9900, avg loss: 0.4834, accuracy: 10.15%\r\n",
      " 31%|████████████▍                           | 584/1883 [04:24<09:45,  2.22it/s]INFO - 03/17/22 11:36:24 - 1:15:33 - Train Epoch: 6, Total Steps: 10000, avg loss: 0.5772, accuracy: 10.17%\r\n",
      " 36%|██████████████▌                         | 684/1883 [05:09<08:59,  2.22it/s]INFO - 03/17/22 11:37:09 - 1:16:18 - Train Epoch: 6, Total Steps: 10100, avg loss: 0.6692, accuracy: 10.15%\r\n",
      " 42%|████████████████▋                       | 784/1883 [05:54<08:28,  2.16it/s]INFO - 03/17/22 11:37:55 - 1:17:04 - Train Epoch: 6, Total Steps: 10200, avg loss: 0.7594, accuracy: 10.16%\r\n",
      " 47%|██████████████████▊                     | 884/1883 [06:40<07:28,  2.23it/s]INFO - 03/17/22 11:38:40 - 1:17:49 - Train Epoch: 6, Total Steps: 10300, avg loss: 0.8478, accuracy: 10.18%\r\n",
      " 52%|████████████████████▉                   | 984/1883 [07:25<06:43,  2.23it/s]INFO - 03/17/22 11:39:25 - 1:18:34 - Train Epoch: 6, Total Steps: 10400, avg loss: 0.9345, accuracy: 10.19%\r\n",
      " 58%|██████████████████████▍                | 1084/1883 [08:10<05:58,  2.23it/s]INFO - 03/17/22 11:40:10 - 1:19:19 - Train Epoch: 6, Total Steps: 10500, avg loss: 1.0196, accuracy: 10.20%\r\n",
      " 63%|████████████████████████▌              | 1184/1883 [08:55<05:16,  2.21it/s]INFO - 03/17/22 11:40:56 - 1:20:04 - Train Epoch: 6, Total Steps: 10600, avg loss: 1.1030, accuracy: 10.22%\r\n",
      " 68%|██████████████████████████▌            | 1284/1883 [09:40<04:29,  2.22it/s]INFO - 03/17/22 11:41:41 - 1:20:50 - Train Epoch: 6, Total Steps: 10700, avg loss: 1.1849, accuracy: 10.22%\r\n",
      " 73%|████████████████████████████▋          | 1384/1883 [10:25<03:44,  2.22it/s]INFO - 03/17/22 11:42:26 - 1:21:35 - Train Epoch: 6, Total Steps: 10800, avg loss: 1.2653, accuracy: 10.20%\r\n",
      " 79%|██████████████████████████████▋        | 1484/1883 [11:10<02:59,  2.23it/s]INFO - 03/17/22 11:43:11 - 1:22:20 - Train Epoch: 6, Total Steps: 10900, avg loss: 1.3442, accuracy: 10.20%\r\n",
      " 84%|████████████████████████████████▊      | 1584/1883 [11:56<02:15,  2.20it/s]INFO - 03/17/22 11:43:56 - 1:23:05 - Train Epoch: 6, Total Steps: 11000, avg loss: 1.4217, accuracy: 10.19%\r\n",
      " 89%|██████████████████████████████████▉    | 1684/1883 [12:41<01:29,  2.23it/s]INFO - 03/17/22 11:44:42 - 1:23:50 - Train Epoch: 6, Total Steps: 11100, avg loss: 1.4978, accuracy: 10.19%\r\n",
      " 95%|████████████████████████████████████▉  | 1784/1883 [13:26<00:44,  2.23it/s]INFO - 03/17/22 11:45:27 - 1:24:35 - Train Epoch: 6, Total Steps: 11200, avg loss: 1.5725, accuracy: 10.20%\r\n",
      "100%|███████████████████████████████████████| 1883/1883 [14:11<00:00,  2.21it/s]\r\n",
      "INFO - 03/17/22 11:46:11 - 1:25:19 - Train Epoch: 6, avg loss: 9.8668, accuracy: 10.19%\r\n",
      "INFO - 03/17/22 11:46:12 - 1:25:21 - Validation. Epoch: 6, avg dev loss: 9.8501, accuracy: 11.94%\r\n",
      "Epoch / Total epochs: 7 / 10\r\n",
      "  0%|                                          | 1/1883 [00:00<14:05,  2.23it/s]INFO - 03/17/22 11:46:13 - 1:25:22 - Train Epoch: 7, Total Steps: 11300, avg loss: 0.0017, accuracy: 10.47%\r\n",
      "  5%|██▏                                     | 101/1883 [00:45<13:23,  2.22it/s]INFO - 03/17/22 11:46:58 - 1:26:07 - Train Epoch: 7, Total Steps: 11400, avg loss: 0.0883, accuracy: 10.25%\r\n",
      " 11%|████▎                                   | 201/1883 [01:30<12:34,  2.23it/s]INFO - 03/17/22 11:47:43 - 1:26:52 - Train Epoch: 7, Total Steps: 11500, avg loss: 0.1733, accuracy: 10.34%\r\n",
      " 16%|██████▍                                 | 301/1883 [02:16<11:51,  2.22it/s]INFO - 03/17/22 11:48:28 - 1:27:37 - Train Epoch: 7, Total Steps: 11600, avg loss: 0.2569, accuracy: 10.29%\r\n",
      " 21%|████████▌                               | 401/1883 [03:01<11:06,  2.22it/s]INFO - 03/17/22 11:49:13 - 1:28:22 - Train Epoch: 7, Total Steps: 11700, avg loss: 0.3390, accuracy: 10.24%\r\n",
      " 27%|██████████▋                             | 501/1883 [03:46<11:29,  2.00it/s]INFO - 03/17/22 11:49:59 - 1:29:08 - Train Epoch: 7, Total Steps: 11800, avg loss: 0.4197, accuracy: 10.22%\r\n",
      " 32%|████████████▊                           | 601/1883 [04:31<09:35,  2.23it/s]INFO - 03/17/22 11:50:44 - 1:29:53 - Train Epoch: 7, Total Steps: 11900, avg loss: 0.4991, accuracy: 10.22%\r\n",
      " 37%|██████████████▉                         | 701/1883 [05:16<08:50,  2.23it/s]INFO - 03/17/22 11:51:29 - 1:30:38 - Train Epoch: 7, Total Steps: 12000, avg loss: 0.5772, accuracy: 10.19%\r\n",
      " 43%|█████████████████                       | 801/1883 [06:02<08:18,  2.17it/s]INFO - 03/17/22 11:52:14 - 1:31:23 - Train Epoch: 7, Total Steps: 12100, avg loss: 0.6540, accuracy: 10.23%\r\n",
      " 48%|███████████████████▏                    | 901/1883 [06:46<07:20,  2.23it/s]INFO - 03/17/22 11:52:59 - 1:32:08 - Train Epoch: 7, Total Steps: 12200, avg loss: 0.7295, accuracy: 10.24%\r\n",
      " 53%|████████████████████▋                  | 1001/1883 [07:32<06:34,  2.23it/s]INFO - 03/17/22 11:53:45 - 1:32:53 - Train Epoch: 7, Total Steps: 12300, avg loss: 0.8037, accuracy: 10.23%\r\n",
      " 58%|██████████████████████▊                | 1101/1883 [08:17<05:58,  2.18it/s]INFO - 03/17/22 11:54:30 - 1:33:39 - Train Epoch: 7, Total Steps: 12400, avg loss: 0.8769, accuracy: 10.21%\r\n",
      " 64%|████████████████████████▊              | 1201/1883 [09:02<05:05,  2.23it/s]INFO - 03/17/22 11:55:15 - 1:34:24 - Train Epoch: 7, Total Steps: 12500, avg loss: 0.9488, accuracy: 10.21%\r\n",
      " 69%|██████████████████████████▉            | 1301/1883 [09:47<04:21,  2.22it/s]INFO - 03/17/22 11:56:00 - 1:35:09 - Train Epoch: 7, Total Steps: 12600, avg loss: 1.0195, accuracy: 10.22%\r\n",
      " 74%|█████████████████████████████          | 1401/1883 [10:32<03:38,  2.21it/s]INFO - 03/17/22 11:56:45 - 1:35:54 - Train Epoch: 7, Total Steps: 12700, avg loss: 1.0892, accuracy: 10.21%\r\n",
      " 80%|███████████████████████████████        | 1501/1883 [11:17<02:51,  2.22it/s]INFO - 03/17/22 11:57:30 - 1:36:39 - Train Epoch: 7, Total Steps: 12800, avg loss: 1.1578, accuracy: 10.21%\r\n",
      " 85%|█████████████████████████████████▏     | 1601/1883 [12:02<02:06,  2.23it/s]INFO - 03/17/22 11:58:15 - 1:37:24 - Train Epoch: 7, Total Steps: 12900, avg loss: 1.2253, accuracy: 10.21%\r\n",
      " 90%|███████████████████████████████████▏   | 1701/1883 [12:47<01:21,  2.22it/s]INFO - 03/17/22 11:59:00 - 1:38:09 - Train Epoch: 7, Total Steps: 13000, avg loss: 1.2918, accuracy: 10.21%\r\n",
      " 96%|█████████████████████████████████████▎ | 1801/1883 [13:32<00:36,  2.23it/s]INFO - 03/17/22 11:59:45 - 1:38:54 - Train Epoch: 7, Total Steps: 13100, avg loss: 1.3572, accuracy: 10.20%\r\n",
      "100%|███████████████████████████████████████| 1883/1883 [14:09<00:00,  2.22it/s]\r\n",
      "INFO - 03/17/22 12:00:22 - 1:39:30 - Train Epoch: 7, avg loss: 9.8665, accuracy: 10.22%\r\n",
      "INFO - 03/17/22 12:00:23 - 1:39:32 - Validation. Epoch: 7, avg dev loss: 9.8515, accuracy: 11.73%\r\n",
      "Epoch / Total epochs: 8 / 10\r\n",
      "  1%|▍                                        | 18/1883 [00:08<13:55,  2.23it/s]INFO - 03/17/22 12:00:32 - 1:39:40 - Train Epoch: 8, Total Steps: 13200, avg loss: 0.0142, accuracy: 10.17%\r\n",
      "  6%|██▌                                     | 118/1883 [00:53<13:13,  2.23it/s]INFO - 03/17/22 12:01:17 - 1:40:26 - Train Epoch: 8, Total Steps: 13300, avg loss: 0.0883, accuracy: 10.16%\r\n",
      " 12%|████▋                                   | 218/1883 [01:38<12:25,  2.23it/s]INFO - 03/17/22 12:02:02 - 1:41:11 - Train Epoch: 8, Total Steps: 13400, avg loss: 0.1612, accuracy: 10.32%\r\n",
      " 17%|██████▊                                 | 318/1883 [02:23<11:45,  2.22it/s]INFO - 03/17/22 12:02:47 - 1:41:56 - Train Epoch: 8, Total Steps: 13500, avg loss: 0.2331, accuracy: 10.27%\r\n",
      " 22%|████████▉                               | 418/1883 [03:08<10:58,  2.23it/s]INFO - 03/17/22 12:03:32 - 1:42:41 - Train Epoch: 8, Total Steps: 13600, avg loss: 0.3040, accuracy: 10.27%\r\n",
      " 28%|███████████                             | 518/1883 [03:53<10:19,  2.20it/s]INFO - 03/17/22 12:04:17 - 1:43:26 - Train Epoch: 8, Total Steps: 13700, avg loss: 0.3738, accuracy: 10.23%\r\n",
      " 33%|█████████████▏                          | 618/1883 [04:38<09:27,  2.23it/s]INFO - 03/17/22 12:05:02 - 1:44:11 - Train Epoch: 8, Total Steps: 13800, avg loss: 0.4426, accuracy: 10.23%\r\n",
      " 38%|███████████████▎                        | 718/1883 [05:23<08:43,  2.23it/s]INFO - 03/17/22 12:05:47 - 1:44:56 - Train Epoch: 8, Total Steps: 13900, avg loss: 0.5104, accuracy: 10.24%\r\n",
      " 43%|█████████████████▍                      | 818/1883 [06:08<07:59,  2.22it/s]INFO - 03/17/22 12:06:32 - 1:45:41 - Train Epoch: 8, Total Steps: 14000, avg loss: 0.5772, accuracy: 10.25%\r\n",
      " 49%|███████████████████▌                    | 918/1883 [06:53<07:12,  2.23it/s]INFO - 03/17/22 12:07:17 - 1:46:26 - Train Epoch: 8, Total Steps: 14100, avg loss: 0.6431, accuracy: 10.23%\r\n",
      " 54%|█████████████████████                  | 1018/1883 [07:39<06:28,  2.23it/s]INFO - 03/17/22 12:08:02 - 1:47:11 - Train Epoch: 8, Total Steps: 14200, avg loss: 0.7080, accuracy: 10.24%\r\n",
      " 59%|███████████████████████▏               | 1118/1883 [08:23<05:42,  2.23it/s]INFO - 03/17/22 12:08:47 - 1:47:56 - Train Epoch: 8, Total Steps: 14300, avg loss: 0.7720, accuracy: 10.25%\r\n",
      " 65%|█████████████████████████▏             | 1218/1883 [09:09<04:58,  2.23it/s]INFO - 03/17/22 12:09:33 - 1:48:41 - Train Epoch: 8, Total Steps: 14400, avg loss: 0.8352, accuracy: 10.24%\r\n",
      " 70%|███████████████████████████▎           | 1318/1883 [09:54<04:16,  2.21it/s]INFO - 03/17/22 12:10:18 - 1:49:27 - Train Epoch: 8, Total Steps: 14500, avg loss: 0.8975, accuracy: 10.26%\r\n",
      " 75%|█████████████████████████████▎         | 1418/1883 [10:39<03:29,  2.22it/s]INFO - 03/17/22 12:11:03 - 1:50:12 - Train Epoch: 8, Total Steps: 14600, avg loss: 0.9589, accuracy: 10.25%\r\n",
      " 81%|███████████████████████████████▍       | 1518/1883 [11:24<02:43,  2.23it/s]INFO - 03/17/22 12:11:48 - 1:50:57 - Train Epoch: 8, Total Steps: 14700, avg loss: 1.0195, accuracy: 10.26%\r\n",
      " 86%|█████████████████████████████████▌     | 1618/1883 [12:09<02:00,  2.21it/s]INFO - 03/17/22 12:12:33 - 1:51:42 - Train Epoch: 8, Total Steps: 14800, avg loss: 1.0793, accuracy: 10.25%\r\n",
      " 91%|███████████████████████████████████▌   | 1718/1883 [12:54<01:14,  2.23it/s]INFO - 03/17/22 12:13:18 - 1:52:27 - Train Epoch: 8, Total Steps: 14900, avg loss: 1.1383, accuracy: 10.25%\r\n",
      " 97%|█████████████████████████████████████▋ | 1818/1883 [13:39<00:29,  2.23it/s]INFO - 03/17/22 12:14:03 - 1:53:12 - Train Epoch: 8, Total Steps: 15000, avg loss: 1.1964, accuracy: 10.25%\r\n",
      "100%|███████████████████████████████████████| 1883/1883 [14:08<00:00,  2.22it/s]\r\n",
      "INFO - 03/17/22 12:14:32 - 1:53:41 - Train Epoch: 8, avg loss: 9.8663, accuracy: 10.24%\r\n",
      "INFO - 03/17/22 12:14:33 - 1:53:42 - Validation. Epoch: 8, avg dev loss: 9.8516, accuracy: 11.68%\r\n",
      "INFO - 03/17/22 12:14:33 - 1:53:42 - No best dev loss, stop training.\r\n"
     ]
    }
   ],
   "source": [
    "!python train.py --epochs 10 --gpus 1 --train_batch_size 16 --max_len 128"
   ]
  },
  {
   "cell_type": "code",
   "execution_count": 8,
   "id": "c6a0c2b7",
   "metadata": {
    "execution": {
     "iopub.execute_input": "2022-03-17T12:14:44.923088Z",
     "iopub.status.busy": "2022-03-17T12:14:44.922285Z",
     "iopub.status.idle": "2022-03-17T14:07:59.156160Z",
     "shell.execute_reply": "2022-03-17T14:07:59.155661Z",
     "shell.execute_reply.started": "2022-03-17T10:18:15.495455Z"
    },
    "papermill": {
     "duration": 6799.685845,
     "end_time": "2022-03-17T14:07:59.156338",
     "exception": false,
     "start_time": "2022-03-17T12:14:39.470493",
     "status": "completed"
    },
    "tags": []
   },
   "outputs": [
    {
     "name": "stdout",
     "output_type": "stream",
     "text": [
      "Loading data from ./data/Persona_train_3W.pt\r\n",
      "Loading data from ./data/Persona_val_clean.pt\r\n",
      "Loading data from ./data/Persona_test_deepclean.pt\r\n",
      "Some weights of the model checkpoint at bert-base-chinese were not used when initializing BertModel: ['cls.predictions.transform.LayerNorm.weight', 'cls.predictions.transform.dense.weight', 'cls.predictions.transform.dense.bias', 'cls.seq_relationship.weight', 'cls.seq_relationship.bias', 'cls.predictions.decoder.weight', 'cls.predictions.transform.LayerNorm.bias', 'cls.predictions.bias']\r\n",
      "- This IS expected if you are initializing BertModel from the checkpoint of a model trained on another task or with another architecture (e.g. initializing a BertForSequenceClassification model from a BertForPreTraining model).\r\n",
      "- This IS NOT expected if you are initializing BertModel from the checkpoint of a model that you expect to be exactly identical (initializing a BertForSequenceClassification model from a BertForSequenceClassification model).\r\n",
      "loading the checkpoint\r\n",
      "Epoch / Total epochs: 1 / 10\r\n",
      "  5%|██▏                                      | 99/1883 [00:44<13:16,  2.24it/s]INFO - 03/17/22 12:15:42 - 0:00:47 - Train Epoch: 1, Total Steps: 100, avg loss: 9.8674, accuracy: 10.17%\r\n",
      " 11%|████▏                                   | 199/1883 [01:29<12:33,  2.23it/s]INFO - 03/17/22 12:16:27 - 0:01:33 - Train Epoch: 1, Total Steps: 200, avg loss: 9.8667, accuracy: 10.23%\r\n",
      " 16%|██████▎                                 | 299/1883 [02:14<11:48,  2.24it/s]INFO - 03/17/22 12:17:12 - 0:02:18 - Train Epoch: 1, Total Steps: 300, avg loss: 9.8669, accuracy: 10.19%\r\n",
      " 21%|████████▍                               | 399/1883 [02:59<11:09,  2.22it/s]INFO - 03/17/22 12:17:57 - 0:03:03 - Train Epoch: 1, Total Steps: 400, avg loss: 9.8670, accuracy: 10.19%\r\n",
      " 27%|██████████▌                             | 499/1883 [03:44<10:18,  2.24it/s]INFO - 03/17/22 12:18:42 - 0:03:48 - Train Epoch: 1, Total Steps: 500, avg loss: 9.8667, accuracy: 10.22%\r\n",
      " 32%|████████████▋                           | 599/1883 [04:29<09:44,  2.20it/s]INFO - 03/17/22 12:19:27 - 0:04:33 - Train Epoch: 1, Total Steps: 600, avg loss: 9.8671, accuracy: 10.17%\r\n",
      " 37%|██████████████▊                         | 699/1883 [05:14<08:51,  2.23it/s]INFO - 03/17/22 12:20:12 - 0:05:17 - Train Epoch: 1, Total Steps: 700, avg loss: 9.8670, accuracy: 10.18%\r\n",
      " 42%|████████████████▉                       | 799/1883 [05:59<08:06,  2.23it/s]INFO - 03/17/22 12:20:57 - 0:06:02 - Train Epoch: 1, Total Steps: 800, avg loss: 9.8669, accuracy: 10.19%\r\n",
      " 48%|███████████████████                     | 899/1883 [06:44<07:20,  2.24it/s]INFO - 03/17/22 12:21:42 - 0:06:47 - Train Epoch: 1, Total Steps: 900, avg loss: 9.8670, accuracy: 10.17%\r\n",
      " 53%|█████████████████████▏                  | 999/1883 [07:29<06:35,  2.23it/s]INFO - 03/17/22 12:22:27 - 0:07:32 - Train Epoch: 1, Total Steps: 1000, avg loss: 9.8673, accuracy: 10.14%\r\n",
      " 58%|██████████████████████▊                | 1099/1883 [08:14<05:50,  2.24it/s]INFO - 03/17/22 12:23:12 - 0:08:17 - Train Epoch: 1, Total Steps: 1100, avg loss: 9.8674, accuracy: 10.13%\r\n",
      " 64%|████████████████████████▊              | 1199/1883 [08:59<05:07,  2.22it/s]INFO - 03/17/22 12:23:57 - 0:09:02 - Train Epoch: 1, Total Steps: 1200, avg loss: 9.8673, accuracy: 10.13%\r\n",
      " 69%|██████████████████████████▉            | 1299/1883 [09:44<04:22,  2.23it/s]INFO - 03/17/22 12:24:42 - 0:09:47 - Train Epoch: 1, Total Steps: 1300, avg loss: 9.8674, accuracy: 10.13%\r\n",
      " 74%|████████████████████████████▉          | 1399/1883 [10:29<03:36,  2.24it/s]INFO - 03/17/22 12:25:27 - 0:10:32 - Train Epoch: 1, Total Steps: 1400, avg loss: 9.8675, accuracy: 10.12%\r\n",
      " 80%|███████████████████████████████        | 1499/1883 [11:14<02:55,  2.19it/s]INFO - 03/17/22 12:26:12 - 0:11:17 - Train Epoch: 1, Total Steps: 1500, avg loss: 9.8674, accuracy: 10.13%\r\n",
      " 85%|█████████████████████████████████      | 1599/1883 [11:59<02:06,  2.24it/s]INFO - 03/17/22 12:26:57 - 0:12:02 - Train Epoch: 1, Total Steps: 1600, avg loss: 9.8673, accuracy: 10.14%\r\n",
      " 90%|███████████████████████████████████▏   | 1699/1883 [12:44<01:23,  2.20it/s]INFO - 03/17/22 12:27:42 - 0:12:47 - Train Epoch: 1, Total Steps: 1700, avg loss: 9.8672, accuracy: 10.15%\r\n",
      " 96%|█████████████████████████████████████▎ | 1799/1883 [13:29<00:38,  2.16it/s]INFO - 03/17/22 12:28:27 - 0:13:32 - Train Epoch: 1, Total Steps: 1800, avg loss: 9.8673, accuracy: 10.14%\r\n",
      "100%|███████████████████████████████████████| 1883/1883 [14:06<00:00,  2.22it/s]\r\n",
      "INFO - 03/17/22 12:29:04 - 0:14:09 - Train Epoch: 1, avg loss: 9.8672, accuracy: 10.15%\r\n",
      "INFO - 03/17/22 12:29:05 - 0:14:10 - Validation. Epoch: 1, avg dev loss: 9.8502, accuracy: 11.90%\r\n",
      "INFO - 03/17/22 12:29:05 - 0:14:10 - New best loss, Model saved\r\n",
      "Epoch / Total epochs: 2 / 10\r\n",
      "  1%|▎                                        | 16/1883 [00:07<13:54,  2.24it/s]INFO - 03/17/22 12:29:14 - 0:14:19 - Train Epoch: 2, Total Steps: 1900, avg loss: 0.0883, accuracy: 10.28%\r\n",
      "  6%|██▍                                     | 116/1883 [00:52<13:07,  2.24it/s]INFO - 03/17/22 12:29:59 - 0:15:04 - Train Epoch: 2, Total Steps: 2000, avg loss: 0.5773, accuracy: 10.12%\r\n",
      " 11%|████▌                                   | 216/1883 [01:36<12:36,  2.20it/s]INFO - 03/17/22 12:30:43 - 0:15:49 - Train Epoch: 2, Total Steps: 2100, avg loss: 1.0196, accuracy: 10.11%\r\n",
      " 17%|██████▋                                 | 316/1883 [02:21<11:39,  2.24it/s]INFO - 03/17/22 12:31:28 - 0:16:33 - Train Epoch: 2, Total Steps: 2200, avg loss: 1.4218, accuracy: 10.11%\r\n",
      " 22%|████████▊                               | 416/1883 [03:06<10:53,  2.24it/s]INFO - 03/17/22 12:32:13 - 0:17:18 - Train Epoch: 2, Total Steps: 2300, avg loss: 1.7891, accuracy: 10.09%\r\n",
      " 27%|██████████▉                             | 516/1883 [03:51<10:09,  2.24it/s]INFO - 03/17/22 12:32:58 - 0:18:03 - Train Epoch: 2, Total Steps: 2400, avg loss: 2.1255, accuracy: 10.16%\r\n",
      " 33%|█████████████                           | 616/1883 [04:36<09:24,  2.24it/s]INFO - 03/17/22 12:33:43 - 0:18:48 - Train Epoch: 2, Total Steps: 2500, avg loss: 2.4352, accuracy: 10.15%\r\n",
      " 38%|███████████████▏                        | 716/1883 [05:21<08:40,  2.24it/s]INFO - 03/17/22 12:34:28 - 0:19:33 - Train Epoch: 2, Total Steps: 2600, avg loss: 2.7212, accuracy: 10.12%\r\n",
      " 43%|█████████████████▎                      | 816/1883 [06:05<07:57,  2.23it/s]INFO - 03/17/22 12:35:12 - 0:20:18 - Train Epoch: 2, Total Steps: 2700, avg loss: 2.9858, accuracy: 10.12%\r\n",
      " 49%|███████████████████▍                    | 916/1883 [06:50<07:14,  2.23it/s]INFO - 03/17/22 12:35:57 - 0:21:03 - Train Epoch: 2, Total Steps: 2800, avg loss: 3.2316, accuracy: 10.13%\r\n",
      " 54%|█████████████████████                  | 1016/1883 [07:35<06:27,  2.24it/s]INFO - 03/17/22 12:36:42 - 0:21:48 - Train Epoch: 2, Total Steps: 2900, avg loss: 3.4604, accuracy: 10.15%\r\n",
      " 59%|███████████████████████                | 1116/1883 [08:20<05:46,  2.22it/s]INFO - 03/17/22 12:37:27 - 0:22:33 - Train Epoch: 2, Total Steps: 3000, avg loss: 3.6739, accuracy: 10.14%\r\n",
      " 65%|█████████████████████████▏             | 1216/1883 [09:05<04:57,  2.24it/s]INFO - 03/17/22 12:38:12 - 0:23:18 - Train Epoch: 2, Total Steps: 3100, avg loss: 3.8737, accuracy: 10.15%\r\n",
      " 70%|███████████████████████████▎           | 1316/1883 [09:50<04:18,  2.19it/s]INFO - 03/17/22 12:38:57 - 0:24:02 - Train Epoch: 2, Total Steps: 3200, avg loss: 4.0610, accuracy: 10.14%\r\n",
      " 75%|█████████████████████████████▎         | 1416/1883 [10:35<03:28,  2.24it/s]INFO - 03/17/22 12:39:42 - 0:24:47 - Train Epoch: 2, Total Steps: 3300, avg loss: 4.2371, accuracy: 10.12%\r\n",
      " 81%|███████████████████████████████▍       | 1516/1883 [11:20<02:43,  2.24it/s]INFO - 03/17/22 12:40:27 - 0:25:32 - Train Epoch: 2, Total Steps: 3400, avg loss: 4.4027, accuracy: 10.10%\r\n",
      " 86%|█████████████████████████████████▍     | 1616/1883 [12:05<02:01,  2.20it/s]INFO - 03/17/22 12:41:12 - 0:26:17 - Train Epoch: 2, Total Steps: 3500, avg loss: 4.5588, accuracy: 10.11%\r\n",
      " 91%|███████████████████████████████████▌   | 1716/1883 [12:50<01:14,  2.24it/s]INFO - 03/17/22 12:41:57 - 0:27:02 - Train Epoch: 2, Total Steps: 3600, avg loss: 4.7063, accuracy: 10.11%\r\n",
      " 96%|█████████████████████████████████████▌ | 1816/1883 [13:35<00:29,  2.24it/s]INFO - 03/17/22 12:42:42 - 0:27:47 - Train Epoch: 2, Total Steps: 3700, avg loss: 4.8458, accuracy: 10.12%\r\n",
      "100%|███████████████████████████████████████| 1883/1883 [14:05<00:00,  2.23it/s]\r\n",
      "INFO - 03/17/22 12:43:11 - 0:28:17 - Train Epoch: 2, avg loss: 9.8675, accuracy: 10.12%\r\n",
      "INFO - 03/17/22 12:43:12 - 0:28:18 - Validation. Epoch: 2, avg dev loss: 9.8505, accuracy: 11.77%\r\n",
      "Epoch / Total epochs: 3 / 10\r\n",
      "  2%|▋                                        | 33/1883 [00:14<13:44,  2.24it/s]INFO - 03/17/22 12:43:28 - 0:28:33 - Train Epoch: 3, Total Steps: 3800, avg loss: 0.0883, accuracy: 10.24%\r\n",
      "  7%|██▊                                     | 133/1883 [00:59<13:05,  2.23it/s]INFO - 03/17/22 12:44:13 - 0:29:18 - Train Epoch: 3, Total Steps: 3900, avg loss: 0.3390, accuracy: 10.24%\r\n",
      " 12%|████▉                                   | 233/1883 [01:44<12:19,  2.23it/s]INFO - 03/17/22 12:44:58 - 0:30:03 - Train Epoch: 3, Total Steps: 4000, avg loss: 0.5772, accuracy: 10.27%\r\n",
      " 18%|███████                                 | 333/1883 [02:29<11:32,  2.24it/s]INFO - 03/17/22 12:45:42 - 0:30:48 - Train Epoch: 3, Total Steps: 4100, avg loss: 0.8037, accuracy: 10.27%\r\n",
      " 23%|█████████▏                              | 433/1883 [03:14<10:46,  2.24it/s]INFO - 03/17/22 12:46:27 - 0:31:33 - Train Epoch: 3, Total Steps: 4200, avg loss: 1.0195, accuracy: 10.23%\r\n",
      " 28%|███████████▎                            | 533/1883 [03:59<10:09,  2.22it/s]INFO - 03/17/22 12:47:12 - 0:32:18 - Train Epoch: 3, Total Steps: 4300, avg loss: 1.2253, accuracy: 10.24%\r\n",
      " 34%|█████████████▍                          | 633/1883 [04:43<09:17,  2.24it/s]INFO - 03/17/22 12:47:57 - 0:33:02 - Train Epoch: 3, Total Steps: 4400, avg loss: 1.4217, accuracy: 10.24%\r\n",
      " 39%|███████████████▌                        | 733/1883 [05:28<08:33,  2.24it/s]INFO - 03/17/22 12:48:42 - 0:33:47 - Train Epoch: 3, Total Steps: 4500, avg loss: 1.6094, accuracy: 10.21%\r\n",
      " 44%|█████████████████▋                      | 833/1883 [06:13<07:56,  2.20it/s]INFO - 03/17/22 12:49:27 - 0:34:32 - Train Epoch: 3, Total Steps: 4600, avg loss: 1.7889, accuracy: 10.20%\r\n",
      " 50%|███████████████████▊                    | 933/1883 [06:58<07:03,  2.24it/s]INFO - 03/17/22 12:50:11 - 0:35:17 - Train Epoch: 3, Total Steps: 4700, avg loss: 1.9608, accuracy: 10.20%\r\n",
      " 55%|█████████████████████▍                 | 1033/1883 [07:43<06:19,  2.24it/s]INFO - 03/17/22 12:50:56 - 0:36:02 - Train Epoch: 3, Total Steps: 4800, avg loss: 2.1255, accuracy: 10.20%\r\n",
      " 60%|███████████████████████▍               | 1133/1883 [08:28<05:36,  2.23it/s]INFO - 03/17/22 12:51:41 - 0:36:46 - Train Epoch: 3, Total Steps: 4900, avg loss: 2.2834, accuracy: 10.20%\r\n",
      " 65%|█████████████████████████▌             | 1233/1883 [09:13<04:49,  2.24it/s]INFO - 03/17/22 12:52:26 - 0:37:31 - Train Epoch: 3, Total Steps: 5000, avg loss: 2.4351, accuracy: 10.21%\r\n",
      " 71%|███████████████████████████▌           | 1333/1883 [09:58<04:06,  2.23it/s]INFO - 03/17/22 12:53:11 - 0:38:16 - Train Epoch: 3, Total Steps: 5100, avg loss: 2.5808, accuracy: 10.21%\r\n",
      " 76%|█████████████████████████████▋         | 1433/1883 [10:42<03:22,  2.22it/s]INFO - 03/17/22 12:53:56 - 0:39:01 - Train Epoch: 3, Total Steps: 5200, avg loss: 2.7209, accuracy: 10.22%\r\n",
      " 81%|███████████████████████████████▊       | 1533/1883 [11:27<02:36,  2.24it/s]INFO - 03/17/22 12:54:41 - 0:39:46 - Train Epoch: 3, Total Steps: 5300, avg loss: 2.8557, accuracy: 10.21%\r\n",
      " 87%|█████████████████████████████████▊     | 1633/1883 [12:12<01:54,  2.19it/s]INFO - 03/17/22 12:55:25 - 0:40:31 - Train Epoch: 3, Total Steps: 5400, avg loss: 2.9856, accuracy: 10.20%\r\n",
      " 92%|███████████████████████████████████▉   | 1733/1883 [12:57<01:06,  2.24it/s]INFO - 03/17/22 12:56:10 - 0:41:16 - Train Epoch: 3, Total Steps: 5500, avg loss: 3.1108, accuracy: 10.18%\r\n",
      " 97%|█████████████████████████████████████▉ | 1833/1883 [13:42<00:22,  2.24it/s]INFO - 03/17/22 12:56:55 - 0:42:01 - Train Epoch: 3, Total Steps: 5600, avg loss: 3.2314, accuracy: 10.18%\r\n",
      "100%|███████████████████████████████████████| 1883/1883 [14:04<00:00,  2.23it/s]\r\n",
      "INFO - 03/17/22 12:57:17 - 0:42:22 - Train Epoch: 3, avg loss: 9.8670, accuracy: 10.17%\r\n",
      "INFO - 03/17/22 12:57:18 - 0:42:24 - Validation. Epoch: 3, avg dev loss: 9.8512, accuracy: 11.73%\r\n",
      "Epoch / Total epochs: 4 / 10\r\n",
      "  3%|█                                        | 50/1883 [00:22<13:36,  2.24it/s]INFO - 03/17/22 12:57:41 - 0:42:46 - Train Epoch: 4, Total Steps: 5700, avg loss: 0.0883, accuracy: 10.22%\r\n",
      "  8%|███▏                                    | 150/1883 [01:07<12:52,  2.24it/s]INFO - 03/17/22 12:58:26 - 0:43:31 - Train Epoch: 4, Total Steps: 5800, avg loss: 0.2569, accuracy: 10.12%\r\n",
      " 13%|█████▎                                  | 250/1883 [01:52<12:08,  2.24it/s]INFO - 03/17/22 12:59:11 - 0:44:16 - Train Epoch: 4, Total Steps: 5900, avg loss: 0.4198, accuracy: 10.14%\r\n",
      " 19%|███████▍                                | 350/1883 [02:37<11:24,  2.24it/s]INFO - 03/17/22 12:59:56 - 0:45:01 - Train Epoch: 4, Total Steps: 6000, avg loss: 0.5772, accuracy: 10.14%\r\n",
      " 24%|█████████▌                              | 450/1883 [03:22<10:38,  2.24it/s]INFO - 03/17/22 13:00:41 - 0:45:46 - Train Epoch: 4, Total Steps: 6100, avg loss: 0.7295, accuracy: 10.17%\r\n",
      " 29%|███████████▋                            | 550/1883 [04:06<10:06,  2.20it/s]INFO - 03/17/22 13:01:25 - 0:46:31 - Train Epoch: 4, Total Steps: 6200, avg loss: 0.8769, accuracy: 10.14%\r\n",
      " 35%|█████████████▊                          | 650/1883 [04:51<09:14,  2.22it/s]INFO - 03/17/22 13:02:10 - 0:47:16 - Train Epoch: 4, Total Steps: 6300, avg loss: 1.0196, accuracy: 10.18%\r\n",
      " 40%|███████████████▉                        | 750/1883 [05:36<08:27,  2.23it/s]INFO - 03/17/22 13:02:55 - 0:48:01 - Train Epoch: 4, Total Steps: 6400, avg loss: 1.1578, accuracy: 10.18%\r\n",
      " 45%|██████████████████                      | 850/1883 [06:21<07:42,  2.23it/s]INFO - 03/17/22 13:03:40 - 0:48:45 - Train Epoch: 4, Total Steps: 6500, avg loss: 1.2918, accuracy: 10.19%\r\n",
      " 50%|████████████████████▏                   | 950/1883 [07:06<06:59,  2.22it/s]INFO - 03/17/22 13:04:25 - 0:49:31 - Train Epoch: 4, Total Steps: 6600, avg loss: 1.4217, accuracy: 10.20%\r\n",
      " 56%|█████████████████████▋                 | 1050/1883 [07:51<06:11,  2.24it/s]INFO - 03/17/22 13:05:10 - 0:50:16 - Train Epoch: 4, Total Steps: 6700, avg loss: 1.5478, accuracy: 10.20%\r\n",
      " 61%|███████████████████████▊               | 1150/1883 [08:36<05:26,  2.24it/s]INFO - 03/17/22 13:05:55 - 0:51:00 - Train Epoch: 4, Total Steps: 6800, avg loss: 1.6701, accuracy: 10.18%\r\n",
      " 66%|█████████████████████████▉             | 1250/1883 [09:21<04:42,  2.24it/s]INFO - 03/17/22 13:06:40 - 0:51:45 - Train Epoch: 4, Total Steps: 6900, avg loss: 1.7889, accuracy: 10.18%\r\n",
      " 72%|███████████████████████████▉           | 1350/1883 [10:06<04:03,  2.19it/s]INFO - 03/17/22 13:07:25 - 0:52:30 - Train Epoch: 4, Total Steps: 7000, avg loss: 1.9043, accuracy: 10.18%\r\n",
      " 77%|██████████████████████████████         | 1450/1883 [10:51<03:13,  2.24it/s]INFO - 03/17/22 13:08:10 - 0:53:15 - Train Epoch: 4, Total Steps: 7100, avg loss: 2.0165, accuracy: 10.19%\r\n",
      " 82%|████████████████████████████████       | 1550/1883 [11:36<02:28,  2.24it/s]INFO - 03/17/22 13:08:55 - 0:54:00 - Train Epoch: 4, Total Steps: 7200, avg loss: 2.1255, accuracy: 10.16%\r\n",
      " 88%|██████████████████████████████████▏    | 1650/1883 [12:20<01:43,  2.24it/s]INFO - 03/17/22 13:09:40 - 0:54:45 - Train Epoch: 4, Total Steps: 7300, avg loss: 2.2316, accuracy: 10.13%\r\n",
      " 93%|████████████████████████████████████▏  | 1750/1883 [13:06<01:00,  2.19it/s]INFO - 03/17/22 13:10:25 - 0:55:30 - Train Epoch: 4, Total Steps: 7400, avg loss: 2.3348, accuracy: 10.13%\r\n",
      " 98%|██████████████████████████████████████▎| 1850/1883 [13:51<00:14,  2.23it/s]INFO - 03/17/22 13:11:10 - 0:56:15 - Train Epoch: 4, Total Steps: 7500, avg loss: 2.4353, accuracy: 10.12%\r\n",
      "100%|███████████████████████████████████████| 1883/1883 [14:05<00:00,  2.23it/s]\r\n",
      "INFO - 03/17/22 13:11:24 - 0:56:29 - Train Epoch: 4, avg loss: 9.8674, accuracy: 10.12%\r\n",
      "INFO - 03/17/22 13:11:25 - 0:56:30 - Validation. Epoch: 4, avg dev loss: 9.8487, accuracy: 12.07%\r\n",
      "INFO - 03/17/22 13:11:25 - 0:56:30 - New best loss, Model saved\r\n",
      "Epoch / Total epochs: 5 / 10\r\n",
      "  4%|█▍                                       | 67/1883 [00:30<13:30,  2.24it/s]INFO - 03/17/22 13:11:57 - 0:57:02 - Train Epoch: 5, Total Steps: 7600, avg loss: 0.0883, accuracy: 10.04%\r\n",
      "  9%|███▌                                    | 167/1883 [01:15<12:46,  2.24it/s]INFO - 03/17/22 13:12:42 - 0:57:47 - Train Epoch: 5, Total Steps: 7700, avg loss: 0.2153, accuracy: 10.15%\r\n",
      " 14%|█████▋                                  | 267/1883 [01:59<12:18,  2.19it/s]INFO - 03/17/22 13:13:27 - 0:58:32 - Train Epoch: 5, Total Steps: 7800, avg loss: 0.3390, accuracy: 10.20%\r\n",
      " 19%|███████▊                                | 367/1883 [02:44<11:15,  2.24it/s]INFO - 03/17/22 13:14:12 - 0:59:17 - Train Epoch: 5, Total Steps: 7900, avg loss: 0.4596, accuracy: 10.22%\r\n",
      " 25%|█████████▉                              | 467/1883 [03:29<10:31,  2.24it/s]INFO - 03/17/22 13:14:57 - 1:00:02 - Train Epoch: 5, Total Steps: 8000, avg loss: 0.5772, accuracy: 10.16%\r\n",
      " 30%|████████████                            | 567/1883 [04:14<09:46,  2.24it/s]INFO - 03/17/22 13:15:41 - 1:00:47 - Train Epoch: 5, Total Steps: 8100, avg loss: 0.6919, accuracy: 10.18%\r\n",
      " 35%|██████████████▏                         | 667/1883 [04:59<09:04,  2.23it/s]INFO - 03/17/22 13:16:26 - 1:01:32 - Train Epoch: 5, Total Steps: 8200, avg loss: 0.8038, accuracy: 10.20%\r\n",
      " 41%|████████████████▎                       | 767/1883 [05:44<08:18,  2.24it/s]INFO - 03/17/22 13:17:12 - 1:02:17 - Train Epoch: 5, Total Steps: 8300, avg loss: 0.9130, accuracy: 10.19%\r\n",
      " 46%|██████████████████▍                     | 867/1883 [06:29<07:34,  2.24it/s]INFO - 03/17/22 13:17:56 - 1:03:02 - Train Epoch: 5, Total Steps: 8400, avg loss: 1.0196, accuracy: 10.19%\r\n",
      " 51%|████████████████████▌                   | 967/1883 [07:14<06:48,  2.24it/s]INFO - 03/17/22 13:18:41 - 1:03:47 - Train Epoch: 5, Total Steps: 8500, avg loss: 1.1236, accuracy: 10.20%\r\n",
      " 57%|██████████████████████                 | 1067/1883 [07:59<06:12,  2.19it/s]INFO - 03/17/22 13:19:26 - 1:04:32 - Train Epoch: 5, Total Steps: 8600, avg loss: 1.2253, accuracy: 10.19%\r\n",
      " 62%|████████████████████████▏              | 1167/1883 [08:44<05:21,  2.23it/s]INFO - 03/17/22 13:20:11 - 1:05:16 - Train Epoch: 5, Total Steps: 8700, avg loss: 1.3247, accuracy: 10.18%\r\n",
      " 67%|██████████████████████████▏            | 1267/1883 [09:29<04:35,  2.23it/s]INFO - 03/17/22 13:20:56 - 1:06:02 - Train Epoch: 5, Total Steps: 8800, avg loss: 1.4217, accuracy: 10.19%\r\n",
      " 73%|████████████████████████████▎          | 1367/1883 [10:14<03:51,  2.23it/s]INFO - 03/17/22 13:21:41 - 1:06:46 - Train Epoch: 5, Total Steps: 8900, avg loss: 1.5166, accuracy: 10.19%\r\n",
      " 78%|██████████████████████████████▍        | 1467/1883 [10:59<03:06,  2.23it/s]INFO - 03/17/22 13:22:26 - 1:07:32 - Train Epoch: 5, Total Steps: 9000, avg loss: 1.6094, accuracy: 10.19%\r\n",
      " 83%|████████████████████████████████▍      | 1567/1883 [11:44<02:24,  2.18it/s]INFO - 03/17/22 13:23:11 - 1:08:17 - Train Epoch: 5, Total Steps: 9100, avg loss: 1.7001, accuracy: 10.20%\r\n",
      " 89%|██████████████████████████████████▌    | 1667/1883 [12:29<01:36,  2.24it/s]INFO - 03/17/22 13:23:56 - 1:09:01 - Train Epoch: 5, Total Steps: 9200, avg loss: 1.7889, accuracy: 10.19%\r\n",
      " 94%|████████████████████████████████████▌  | 1767/1883 [13:14<00:52,  2.23it/s]INFO - 03/17/22 13:24:41 - 1:09:47 - Train Epoch: 5, Total Steps: 9300, avg loss: 1.8758, accuracy: 10.18%\r\n",
      " 99%|██████████████████████████████████████▋| 1867/1883 [13:59<00:07,  2.24it/s]INFO - 03/17/22 13:25:26 - 1:10:32 - Train Epoch: 5, Total Steps: 9400, avg loss: 1.9608, accuracy: 10.18%\r\n",
      "100%|███████████████████████████████████████| 1883/1883 [14:06<00:00,  2.22it/s]\r\n",
      "INFO - 03/17/22 13:25:33 - 1:10:38 - Train Epoch: 5, avg loss: 9.8668, accuracy: 10.19%\r\n",
      "INFO - 03/17/22 13:25:34 - 1:10:40 - Validation. Epoch: 5, avg dev loss: 9.8502, accuracy: 11.81%\r\n",
      "Epoch / Total epochs: 6 / 10\r\n",
      "  4%|█▊                                       | 84/1883 [00:37<13:26,  2.23it/s]INFO - 03/17/22 13:26:13 - 1:11:18 - Train Epoch: 6, Total Steps: 9500, avg loss: 0.0883, accuracy: 9.96%\r\n",
      " 10%|███▉                                    | 184/1883 [01:22<12:47,  2.21it/s]INFO - 03/17/22 13:26:58 - 1:12:03 - Train Epoch: 6, Total Steps: 9600, avg loss: 0.1901, accuracy: 10.17%\r\n",
      " 15%|██████                                  | 284/1883 [02:07<11:54,  2.24it/s]INFO - 03/17/22 13:27:42 - 1:12:48 - Train Epoch: 6, Total Steps: 9700, avg loss: 0.2899, accuracy: 10.27%\r\n",
      " 20%|████████▏                               | 384/1883 [02:52<11:10,  2.24it/s]INFO - 03/17/22 13:28:28 - 1:13:33 - Train Epoch: 6, Total Steps: 9800, avg loss: 0.3876, accuracy: 10.27%\r\n",
      " 26%|██████████▎                             | 484/1883 [03:37<10:39,  2.19it/s]INFO - 03/17/22 13:29:12 - 1:14:18 - Train Epoch: 6, Total Steps: 9900, avg loss: 0.4833, accuracy: 10.26%\r\n",
      " 31%|████████████▍                           | 584/1883 [04:22<09:41,  2.23it/s]INFO - 03/17/22 13:29:57 - 1:15:03 - Train Epoch: 6, Total Steps: 10000, avg loss: 0.5772, accuracy: 10.25%\r\n",
      " 36%|██████████████▌                         | 684/1883 [05:07<09:01,  2.21it/s]INFO - 03/17/22 13:30:43 - 1:15:48 - Train Epoch: 6, Total Steps: 10100, avg loss: 0.6692, accuracy: 10.23%\r\n",
      " 42%|████████████████▋                       | 784/1883 [05:52<08:11,  2.24it/s]INFO - 03/17/22 13:31:27 - 1:16:33 - Train Epoch: 6, Total Steps: 10200, avg loss: 0.7593, accuracy: 10.21%\r\n",
      " 47%|██████████████████▊                     | 884/1883 [06:37<07:25,  2.24it/s]INFO - 03/17/22 13:32:13 - 1:17:18 - Train Epoch: 6, Total Steps: 10300, avg loss: 0.8478, accuracy: 10.21%\r\n",
      " 52%|████████████████████▉                   | 984/1883 [07:22<06:50,  2.19it/s]INFO - 03/17/22 13:32:58 - 1:18:03 - Train Epoch: 6, Total Steps: 10400, avg loss: 0.9345, accuracy: 10.20%\r\n",
      " 58%|██████████████████████▍                | 1084/1883 [08:07<05:56,  2.24it/s]INFO - 03/17/22 13:33:42 - 1:18:48 - Train Epoch: 6, Total Steps: 10500, avg loss: 1.0196, accuracy: 10.17%\r\n",
      " 63%|████████████████████████▌              | 1184/1883 [08:52<05:11,  2.24it/s]INFO - 03/17/22 13:34:28 - 1:19:33 - Train Epoch: 6, Total Steps: 10600, avg loss: 1.1031, accuracy: 10.16%\r\n",
      " 68%|██████████████████████████▌            | 1284/1883 [09:37<04:31,  2.20it/s]INFO - 03/17/22 13:35:12 - 1:20:18 - Train Epoch: 6, Total Steps: 10700, avg loss: 1.1850, accuracy: 10.16%\r\n",
      " 73%|████████████████████████████▋          | 1384/1883 [10:22<03:43,  2.24it/s]INFO - 03/17/22 13:35:57 - 1:21:03 - Train Epoch: 6, Total Steps: 10800, avg loss: 1.2653, accuracy: 10.18%\r\n",
      " 79%|██████████████████████████████▋        | 1484/1883 [11:07<03:08,  2.11it/s]INFO - 03/17/22 13:36:42 - 1:21:48 - Train Epoch: 6, Total Steps: 10900, avg loss: 1.3443, accuracy: 10.18%\r\n",
      " 84%|████████████████████████████████▊      | 1584/1883 [11:52<02:14,  2.23it/s]INFO - 03/17/22 13:37:27 - 1:22:33 - Train Epoch: 6, Total Steps: 11000, avg loss: 1.4217, accuracy: 10.18%\r\n",
      " 89%|██████████████████████████████████▉    | 1684/1883 [12:37<01:29,  2.23it/s]INFO - 03/17/22 13:38:13 - 1:23:18 - Train Epoch: 6, Total Steps: 11100, avg loss: 1.4978, accuracy: 10.18%\r\n",
      " 95%|████████████████████████████████████▉  | 1784/1883 [13:22<00:44,  2.23it/s]INFO - 03/17/22 13:38:58 - 1:24:03 - Train Epoch: 6, Total Steps: 11200, avg loss: 1.5725, accuracy: 10.19%\r\n",
      "100%|███████████████████████████████████████| 1883/1883 [14:07<00:00,  2.22it/s]\r\n",
      "INFO - 03/17/22 13:39:41 - 1:24:47 - Train Epoch: 6, avg loss: 9.8668, accuracy: 10.20%\r\n",
      "INFO - 03/17/22 13:39:43 - 1:24:48 - Validation. Epoch: 6, avg dev loss: 9.8489, accuracy: 11.81%\r\n",
      "Epoch / Total epochs: 7 / 10\r\n",
      "  0%|                                          | 1/1883 [00:00<14:04,  2.23it/s]INFO - 03/17/22 13:39:44 - 1:24:49 - Train Epoch: 7, Total Steps: 11300, avg loss: 0.0017, accuracy: 9.56%\r\n",
      "  5%|██▏                                     | 101/1883 [00:45<13:18,  2.23it/s]INFO - 03/17/22 13:40:29 - 1:25:34 - Train Epoch: 7, Total Steps: 11400, avg loss: 0.0883, accuracy: 10.35%\r\n",
      " 11%|████▎                                   | 201/1883 [01:30<12:36,  2.22it/s]INFO - 03/17/22 13:41:14 - 1:26:19 - Train Epoch: 7, Total Steps: 11500, avg loss: 0.1733, accuracy: 10.29%\r\n",
      " 16%|██████▍                                 | 301/1883 [02:15<11:48,  2.23it/s]INFO - 03/17/22 13:41:59 - 1:27:04 - Train Epoch: 7, Total Steps: 11600, avg loss: 0.2568, accuracy: 10.32%\r\n",
      " 21%|████████▌                               | 401/1883 [03:00<11:07,  2.22it/s]INFO - 03/17/22 13:42:44 - 1:27:49 - Train Epoch: 7, Total Steps: 11700, avg loss: 0.3390, accuracy: 10.26%\r\n",
      " 27%|██████████▋                             | 501/1883 [03:45<10:20,  2.23it/s]INFO - 03/17/22 13:43:29 - 1:28:34 - Train Epoch: 7, Total Steps: 11800, avg loss: 0.4197, accuracy: 10.24%\r\n",
      " 32%|████████████▊                           | 601/1883 [04:30<09:34,  2.23it/s]INFO - 03/17/22 13:44:14 - 1:29:19 - Train Epoch: 7, Total Steps: 11900, avg loss: 0.4991, accuracy: 10.20%\r\n",
      " 37%|██████████████▉                         | 701/1883 [05:15<08:51,  2.22it/s]INFO - 03/17/22 13:44:59 - 1:30:04 - Train Epoch: 7, Total Steps: 12000, avg loss: 0.5772, accuracy: 10.18%\r\n",
      " 43%|█████████████████                       | 801/1883 [06:00<08:04,  2.23it/s]INFO - 03/17/22 13:45:44 - 1:30:49 - Train Epoch: 7, Total Steps: 12100, avg loss: 0.6540, accuracy: 10.19%\r\n",
      " 48%|███████████████████▏                    | 901/1883 [06:45<07:19,  2.23it/s]INFO - 03/17/22 13:46:29 - 1:31:34 - Train Epoch: 7, Total Steps: 12200, avg loss: 0.7295, accuracy: 10.18%\r\n",
      " 53%|████████████████████▋                  | 1001/1883 [07:30<06:34,  2.24it/s]INFO - 03/17/22 13:47:14 - 1:32:19 - Train Epoch: 7, Total Steps: 12300, avg loss: 0.8038, accuracy: 10.20%\r\n",
      " 58%|██████████████████████▊                | 1101/1883 [08:15<05:50,  2.23it/s]INFO - 03/17/22 13:47:59 - 1:33:04 - Train Epoch: 7, Total Steps: 12400, avg loss: 0.8768, accuracy: 10.22%\r\n",
      " 64%|████████████████████████▊              | 1201/1883 [09:00<05:04,  2.24it/s]INFO - 03/17/22 13:48:44 - 1:33:49 - Train Epoch: 7, Total Steps: 12500, avg loss: 0.9488, accuracy: 10.22%\r\n",
      " 69%|██████████████████████████▉            | 1301/1883 [09:45<04:20,  2.24it/s]INFO - 03/17/22 13:49:29 - 1:34:34 - Train Epoch: 7, Total Steps: 12600, avg loss: 1.0195, accuracy: 10.23%\r\n",
      " 74%|█████████████████████████████          | 1401/1883 [10:30<03:34,  2.24it/s]INFO - 03/17/22 13:50:13 - 1:35:19 - Train Epoch: 7, Total Steps: 12700, avg loss: 1.0892, accuracy: 10.22%\r\n",
      " 80%|███████████████████████████████        | 1501/1883 [11:15<02:52,  2.21it/s]INFO - 03/17/22 13:50:58 - 1:36:04 - Train Epoch: 7, Total Steps: 12800, avg loss: 1.1578, accuracy: 10.23%\r\n",
      " 85%|█████████████████████████████████▏     | 1601/1883 [12:00<02:06,  2.23it/s]INFO - 03/17/22 13:51:44 - 1:36:49 - Train Epoch: 7, Total Steps: 12900, avg loss: 1.2253, accuracy: 10.22%\r\n",
      " 90%|███████████████████████████████████▏   | 1701/1883 [12:45<01:21,  2.23it/s]INFO - 03/17/22 13:52:28 - 1:37:34 - Train Epoch: 7, Total Steps: 13000, avg loss: 1.2917, accuracy: 10.22%\r\n",
      " 96%|█████████████████████████████████████▎ | 1801/1883 [13:30<00:36,  2.23it/s]INFO - 03/17/22 13:53:13 - 1:38:19 - Train Epoch: 7, Total Steps: 13100, avg loss: 1.3572, accuracy: 10.23%\r\n",
      "100%|███████████████████████████████████████| 1883/1883 [14:07<00:00,  2.22it/s]\r\n",
      "INFO - 03/17/22 13:53:50 - 1:38:55 - Train Epoch: 7, avg loss: 9.8664, accuracy: 10.22%\r\n",
      "INFO - 03/17/22 13:53:51 - 1:38:56 - Validation. Epoch: 7, avg dev loss: 9.8506, accuracy: 11.73%\r\n",
      "Epoch / Total epochs: 8 / 10\r\n",
      "  1%|▍                                        | 18/1883 [00:08<13:54,  2.23it/s]INFO - 03/17/22 13:54:00 - 1:39:05 - Train Epoch: 8, Total Steps: 13200, avg loss: 0.0142, accuracy: 10.40%\r\n",
      "  6%|██▌                                     | 118/1883 [00:52<13:14,  2.22it/s]INFO - 03/17/22 13:54:44 - 1:39:50 - Train Epoch: 8, Total Steps: 13300, avg loss: 0.0883, accuracy: 10.12%\r\n",
      " 12%|████▋                                   | 218/1883 [01:37<12:25,  2.23it/s]INFO - 03/17/22 13:55:29 - 1:40:35 - Train Epoch: 8, Total Steps: 13400, avg loss: 0.1613, accuracy: 10.10%\r\n",
      " 17%|██████▊                                 | 318/1883 [02:23<11:39,  2.24it/s]INFO - 03/17/22 13:56:15 - 1:41:20 - Train Epoch: 8, Total Steps: 13500, avg loss: 0.2331, accuracy: 10.22%\r\n",
      " 22%|████████▉                               | 418/1883 [03:07<10:53,  2.24it/s]INFO - 03/17/22 13:56:59 - 1:42:05 - Train Epoch: 8, Total Steps: 13600, avg loss: 0.3040, accuracy: 10.25%\r\n",
      " 28%|███████████                             | 518/1883 [03:52<10:08,  2.24it/s]INFO - 03/17/22 13:57:44 - 1:42:50 - Train Epoch: 8, Total Steps: 13700, avg loss: 0.3738, accuracy: 10.23%\r\n",
      " 33%|█████████████▏                          | 618/1883 [04:37<09:33,  2.21it/s]INFO - 03/17/22 13:58:29 - 1:43:35 - Train Epoch: 8, Total Steps: 13800, avg loss: 0.4426, accuracy: 10.24%\r\n",
      " 38%|███████████████▎                        | 718/1883 [05:22<08:42,  2.23it/s]INFO - 03/17/22 13:59:14 - 1:44:19 - Train Epoch: 8, Total Steps: 13900, avg loss: 0.5104, accuracy: 10.23%\r\n",
      " 43%|█████████████████▍                      | 818/1883 [06:07<07:56,  2.24it/s]INFO - 03/17/22 13:59:59 - 1:45:04 - Train Epoch: 8, Total Steps: 14000, avg loss: 0.5772, accuracy: 10.27%\r\n",
      " 49%|███████████████████▌                    | 918/1883 [06:52<07:14,  2.22it/s]INFO - 03/17/22 14:00:44 - 1:45:49 - Train Epoch: 8, Total Steps: 14100, avg loss: 0.6430, accuracy: 10.28%\r\n",
      " 54%|█████████████████████                  | 1018/1883 [07:37<06:26,  2.24it/s]INFO - 03/17/22 14:01:29 - 1:46:34 - Train Epoch: 8, Total Steps: 14200, avg loss: 0.7080, accuracy: 10.28%\r\n",
      " 59%|███████████████████████▏               | 1118/1883 [08:22<05:41,  2.24it/s]INFO - 03/17/22 14:02:14 - 1:47:19 - Train Epoch: 8, Total Steps: 14300, avg loss: 0.7720, accuracy: 10.26%\r\n",
      " 65%|█████████████████████████▏             | 1218/1883 [09:07<04:57,  2.24it/s]INFO - 03/17/22 14:02:59 - 1:48:04 - Train Epoch: 8, Total Steps: 14400, avg loss: 0.8352, accuracy: 10.26%\r\n",
      " 70%|███████████████████████████▎           | 1318/1883 [09:52<04:12,  2.23it/s]INFO - 03/17/22 14:03:44 - 1:48:49 - Train Epoch: 8, Total Steps: 14500, avg loss: 0.8975, accuracy: 10.26%\r\n",
      " 75%|█████████████████████████████▎         | 1418/1883 [10:36<03:27,  2.24it/s]INFO - 03/17/22 14:04:28 - 1:49:34 - Train Epoch: 8, Total Steps: 14600, avg loss: 0.9589, accuracy: 10.28%\r\n",
      " 81%|███████████████████████████████▍       | 1518/1883 [11:21<02:42,  2.24it/s]INFO - 03/17/22 14:05:13 - 1:50:19 - Train Epoch: 8, Total Steps: 14700, avg loss: 1.0195, accuracy: 10.28%\r\n",
      " 86%|█████████████████████████████████▌     | 1618/1883 [12:06<01:58,  2.24it/s]INFO - 03/17/22 14:05:58 - 1:51:04 - Train Epoch: 8, Total Steps: 14800, avg loss: 1.0793, accuracy: 10.26%\r\n",
      " 91%|███████████████████████████████████▌   | 1718/1883 [12:51<01:13,  2.23it/s]INFO - 03/17/22 14:06:43 - 1:51:48 - Train Epoch: 8, Total Steps: 14900, avg loss: 1.1383, accuracy: 10.24%\r\n",
      " 97%|█████████████████████████████████████▋ | 1818/1883 [13:36<00:29,  2.21it/s]INFO - 03/17/22 14:07:28 - 1:52:34 - Train Epoch: 8, Total Steps: 15000, avg loss: 1.1965, accuracy: 10.24%\r\n",
      "100%|███████████████████████████████████████| 1883/1883 [14:05<00:00,  2.23it/s]\r\n",
      "INFO - 03/17/22 14:07:57 - 1:53:02 - Train Epoch: 8, avg loss: 9.8664, accuracy: 10.24%\r\n",
      "INFO - 03/17/22 14:07:58 - 1:53:03 - Validation. Epoch: 8, avg dev loss: 9.8517, accuracy: 11.86%\r\n",
      "INFO - 03/17/22 14:07:58 - 1:53:03 - No best dev loss, stop training.\r\n"
     ]
    }
   ],
   "source": [
    "!python train.py --epochs 10 --gpus 1 --train_batch_size 16 --max_len 128"
   ]
  },
  {
   "cell_type": "code",
   "execution_count": 9,
   "id": "a20e2080",
   "metadata": {
    "execution": {
     "iopub.execute_input": "2022-03-17T14:08:19.007957Z",
     "iopub.status.busy": "2022-03-17T14:08:19.007172Z",
     "iopub.status.idle": "2022-03-17T14:10:19.115834Z",
     "shell.execute_reply": "2022-03-17T14:10:19.114997Z",
     "shell.execute_reply.started": "2022-03-17T09:05:14.902478Z"
    },
    "papermill": {
     "duration": 130.293449,
     "end_time": "2022-03-17T14:10:19.115982",
     "exception": false,
     "start_time": "2022-03-17T14:08:08.822533",
     "status": "completed"
    },
    "tags": []
   },
   "outputs": [
    {
     "name": "stdout",
     "output_type": "stream",
     "text": [
      "Loading data from ./data/Persona_train_3W.pt\r\n",
      "Loading data from ./data/Persona_val_clean.pt\r\n",
      "Loading data from ./data/Persona_test_deepclean.pt\r\n",
      "Some weights of the model checkpoint at bert-base-chinese were not used when initializing BertModel: ['cls.seq_relationship.bias', 'cls.predictions.transform.dense.bias', 'cls.predictions.transform.LayerNorm.bias', 'cls.predictions.transform.dense.weight', 'cls.predictions.decoder.weight', 'cls.seq_relationship.weight', 'cls.predictions.bias', 'cls.predictions.transform.LayerNorm.weight']\r\n",
      "- This IS expected if you are initializing BertModel from the checkpoint of a model trained on another task or with another architecture (e.g. initializing a BertForSequenceClassification model from a BertForPreTraining model).\r\n",
      "- This IS NOT expected if you are initializing BertModel from the checkpoint of a model that you expect to be exactly identical (initializing a BertForSequenceClassification model from a BertForSequenceClassification model).\r\n",
      "100%|███████████████████████████████████████| 4117/4117 [01:45<00:00, 38.95it/s]\r\n",
      "eval loss: 9.8471, ppl: 18904.18%, accuracy: 12.50%\r\n"
     ]
    }
   ],
   "source": [
    "!python train.py --is_eval"
   ]
  },
  {
   "cell_type": "code",
   "execution_count": 10,
   "id": "63a74c8b",
   "metadata": {
    "execution": {
     "iopub.execute_input": "2022-03-17T14:10:39.265799Z",
     "iopub.status.busy": "2022-03-17T14:10:39.264984Z",
     "iopub.status.idle": "2022-03-17T14:57:50.820079Z",
     "shell.execute_reply": "2022-03-17T14:57:50.819610Z",
     "shell.execute_reply.started": "2022-03-17T10:06:46.966398Z"
    },
    "papermill": {
     "duration": 2841.386533,
     "end_time": "2022-03-17T14:57:50.820213",
     "exception": false,
     "start_time": "2022-03-17T14:10:29.433680",
     "status": "completed"
    },
    "tags": []
   },
   "outputs": [
    {
     "name": "stdout",
     "output_type": "stream",
     "text": [
      "Loading data from ./data/Persona_train_3W.pt\r\n",
      "Loading data from ./data/Persona_val_clean.pt\r\n",
      "Loading data from ./data/Persona_test_deepclean.pt\r\n",
      "Some weights of the model checkpoint at bert-base-chinese were not used when initializing BertModel: ['cls.predictions.transform.dense.bias', 'cls.predictions.decoder.weight', 'cls.predictions.bias', 'cls.predictions.transform.dense.weight', 'cls.predictions.transform.LayerNorm.weight', 'cls.seq_relationship.bias', 'cls.seq_relationship.weight', 'cls.predictions.transform.LayerNorm.bias']\r\n",
      "- This IS expected if you are initializing BertModel from the checkpoint of a model trained on another task or with another architecture (e.g. initializing a BertForSequenceClassification model from a BertForPreTraining model).\r\n",
      "- This IS NOT expected if you are initializing BertModel from the checkpoint of a model that you expect to be exactly identical (initializing a BertForSequenceClassification model from a BertForSequenceClassification model).\r\n",
      "100%|███████████████████████████████████████| 4117/4117 [46:57<00:00,  1.46it/s]\r\n"
     ]
    }
   ],
   "source": [
    "!python train.py --is_test"
   ]
  }
 ],
 "metadata": {
  "kernelspec": {
   "display_name": "Python 3",
   "language": "python",
   "name": "python3"
  },
  "language_info": {
   "codemirror_mode": {
    "name": "ipython",
    "version": 3
   },
   "file_extension": ".py",
   "mimetype": "text/x-python",
   "name": "python",
   "nbconvert_exporter": "python",
   "pygments_lexer": "ipython3",
   "version": "3.7.12"
  },
  "papermill": {
   "default_parameters": {},
   "duration": 16708.875199,
   "end_time": "2022-03-17T14:58:03.061574",
   "environment_variables": {},
   "exception": null,
   "input_path": "__notebook__.ipynb",
   "output_path": "__notebook__.ipynb",
   "parameters": {},
   "start_time": "2022-03-17T10:19:34.186375",
   "version": "2.3.3"
  }
 },
 "nbformat": 4,
 "nbformat_minor": 5
}
